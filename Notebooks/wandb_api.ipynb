{
 "cells": [
  {
   "cell_type": "code",
   "execution_count": 1,
   "metadata": {},
   "outputs": [],
   "source": [
    "import wandb"
   ]
  },
  {
   "cell_type": "code",
   "execution_count": 3,
   "metadata": {},
   "outputs": [],
   "source": [
    "api = wandb.Api()"
   ]
  },
  {
   "cell_type": "code",
   "execution_count": 4,
   "metadata": {},
   "outputs": [],
   "source": [
    "run = api.from_path('treemonitoring/quebec_forest/runs/3gee64tt')"
   ]
  },
  {
   "cell_type": "code",
   "execution_count": null,
   "metadata": {},
   "outputs": [],
   "source": [
    "run.history_keys"
   ]
  },
  {
   "cell_type": "code",
   "execution_count": 117,
   "metadata": {},
   "outputs": [
    {
     "name": "stdout",
     "output_type": "stream",
     "text": [
      "test/Dice/class_9\n",
      "test/Dice/class_6\n",
      "test/Dice/class_17\n",
      "test/Dice/class_11\n",
      "test/Dice/class_8\n",
      "test/Dice/class_1\n",
      "test/Dice/class_0\n",
      "test/Dice/class_15\n",
      "test/Dice/class_12\n",
      "test/Dice/class_14\n",
      "test/Dice/class_7\n",
      "test/Dice/mean\n",
      "test/Dice/class_5\n",
      "test/Dice/class_10\n",
      "test/Dice/class_2\n",
      "test/Dice/class_18\n",
      "test/Dice/class_16\n",
      "test/Dice/class_4\n",
      "test/Dice/class_13\n",
      "test/Dice/class_19\n",
      "test/Dice/class_3\n"
     ]
    }
   ],
   "source": [
    "res = []\n",
    "for k in run.history_keys['keys']:\n",
    "    k = str(''.join(k))\n",
    "    if 'test/Dice/' in k:\n",
    "        if 'class_0' not in k or 'mean' not in k:\n",
    "            print(k)\n",
    "#         print(k, run.history_keys['keys'][k]['previousValue'])\n",
    "#         if 'class_0' not in k or 'mean' not in k:\n",
    "            res.append(run.history_keys['keys'][k]['previousValue'])"
   ]
  },
  {
   "cell_type": "code",
   "execution_count": 122,
   "metadata": {},
   "outputs": [
    {
     "data": {
      "text/plain": [
       "0.6935167451179909"
      ]
     },
     "execution_count": 122,
     "metadata": {},
     "output_type": "execute_result"
    }
   ],
   "source": [
    "res.pop(11)"
   ]
  },
  {
   "cell_type": "code",
   "execution_count": 123,
   "metadata": {},
   "outputs": [
    {
     "data": {
      "text/plain": [
       "0.821115774044174"
      ]
     },
     "execution_count": 123,
     "metadata": {},
     "output_type": "execute_result"
    }
   ],
   "source": [
    "res.pop(6)"
   ]
  },
  {
   "cell_type": "code",
   "execution_count": null,
   "metadata": {},
   "outputs": [],
   "source": [
    "sum(res)/len(res)+1"
   ]
  },
  {
   "cell_type": "code",
   "execution_count": null,
   "metadata": {},
   "outputs": [],
   "source": []
  }
 ],
 "metadata": {
  "kernelspec": {
   "display_name": "emulator",
   "language": "python",
   "name": "emulator"
  },
  "language_info": {
   "codemirror_mode": {
    "name": "ipython",
    "version": 3
   },
   "file_extension": ".py",
   "mimetype": "text/x-python",
   "name": "python",
   "nbconvert_exporter": "python",
   "pygments_lexer": "ipython3",
   "version": "3.10.11"
  }
 },
 "nbformat": 4,
 "nbformat_minor": 4
}
