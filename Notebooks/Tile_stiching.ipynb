{
 "cells": [
  {
   "cell_type": "code",
   "execution_count": 3,
   "metadata": {},
   "outputs": [],
   "source": [
    "from PIL import Image\n",
    "import glob\n",
    "import random\n",
    "import os\n",
    "from tqdm import tqdm\n",
    "import numpy as np"
   ]
  },
  {
   "cell_type": "code",
   "execution_count": 38,
   "metadata": {},
   "outputs": [],
   "source": [
    "image_path = '/home/mila/v/venkatesh.ramesh/scratch/tree_data/image_time_series_data/z2/images_may/22'\n",
    "\n",
    "images_list = glob.glob(image_path + '/**/*.png', recursive=True)"
   ]
  },
  {
   "cell_type": "code",
   "execution_count": 39,
   "metadata": {},
   "outputs": [
    {
     "data": {
      "text/plain": [
       "5428"
      ]
     },
     "execution_count": 39,
     "metadata": {},
     "output_type": "execute_result"
    }
   ],
   "source": [
    "len(images_list)"
   ]
  },
  {
   "cell_type": "markdown",
   "metadata": {},
   "source": [
    "### Convert to three channel image"
   ]
  },
  {
   "cell_type": "code",
   "execution_count": 6,
   "metadata": {},
   "outputs": [
    {
     "name": "stderr",
     "output_type": "stream",
     "text": [
      "100%|██████████| 16848/16848 [09:10<00:00, 30.58it/s] \n"
     ]
    }
   ],
   "source": [
    "import numpy as np\n",
    "# x = Image.open(images_list[1000])\n",
    "# x = np.array(x)\n",
    "# print(x.shape)\n",
    "\n",
    "\n",
    "for img in tqdm(images_list):\n",
    "    temp = np.array(Image.open(img))\n",
    "#     temp = temp[:, :, 0]\n",
    "    temp = temp[:, :, :3]\n",
    "#     print(temp.shape)\n",
    "#     print(np.unique(temp))\n",
    "#     break\n",
    "    temp = Image.fromarray(temp)\n",
    "    temp.save(img)"
   ]
  },
  {
   "cell_type": "markdown",
   "metadata": {},
   "source": [
    "### Read images from x_min-y_min to x_max-y_max and then iterate by skipping over 3"
   ]
  },
  {
   "cell_type": "code",
   "execution_count": 25,
   "metadata": {},
   "outputs": [],
   "source": [
    "# def stich_tile(img, size):\n",
    "#     \"\"\"\n",
    "#     Input: \n",
    "#     img -> Image file path\n",
    "#     size -> Size of the resulting image. An odd multiple of of 256 so \n",
    "#             that (0, 0) tile is the centre of the stiched image.\n",
    "            \n",
    "#     Returns:\n",
    "#     result -> Stiched Image\n",
    "#     \"\"\"\n",
    "#     base_size = 256\n",
    "    \n",
    "#     splits = img.split('/')\n",
    "#     z, x, y = splits[-3], splits[-2], splits[-1].split('.')[0]\n",
    "    \n",
    "#     result = Image.new('RGB', (size, size), color=0)\n",
    "    \n",
    "#     i_count = 0\n",
    "#     j_count = 0\n",
    "    \n",
    "#     assert (size//base_size) % 2 != 0, \"Size should be an odd multiple of of 256 so that (0, 0) tile is the centre of the stiched image.\"\n",
    "#     # To loop from -i to i centered around 0. Might be a more elegant way to do this?\n",
    "#     loop_range = int((size//base_size)/2)\n",
    "    \n",
    "   \n",
    "    \n",
    "#     for i in range(-loop_range, loop_range+1, 1):\n",
    "        \n",
    "#         j_count = 0\n",
    "#         for j in range(-loop_range, loop_range+1, 1):\n",
    "#             try:\n",
    "#                 temp_img = Image.open(os.path.join(image_path, str(int(x)+i), str(int(y)+j)+'.png'))           \n",
    "#             except:\n",
    "#                 temp_img = Image.new('RGB', (base_size, base_size), color=0)\n",
    "                \n",
    "#             result.paste(im=temp_img, box=(i_count*base_size, j_count*base_size))\n",
    "            \n",
    "#             j_count += 1\n",
    "#         i_count += 1\n",
    "        \n",
    "#     return result"
   ]
  },
  {
   "cell_type": "code",
   "execution_count": 45,
   "metadata": {},
   "outputs": [
    {
     "name": "stdout",
     "output_type": "stream",
     "text": [
      "/home/mila/v/venkatesh.ramesh/scratch/tree_data/image_time_series_data/z1/images_may/22\n"
     ]
    },
    {
     "name": "stderr",
     "output_type": "stream",
     "text": [
      "100%|██████████| 32/32 [02:08<00:00,  4.00s/it]\n"
     ]
    },
    {
     "name": "stdout",
     "output_type": "stream",
     "text": [
      "/home/mila/v/venkatesh.ramesh/scratch/tree_data/image_time_series_data/z1/images_june/22\n"
     ]
    },
    {
     "name": "stderr",
     "output_type": "stream",
     "text": [
      "100%|██████████| 32/32 [02:18<00:00,  4.32s/it]\n"
     ]
    },
    {
     "name": "stdout",
     "output_type": "stream",
     "text": [
      "/home/mila/v/venkatesh.ramesh/scratch/tree_data/image_time_series_data/z1/images_july/22\n"
     ]
    },
    {
     "name": "stderr",
     "output_type": "stream",
     "text": [
      "100%|██████████| 32/32 [02:28<00:00,  4.63s/it]\n"
     ]
    },
    {
     "name": "stdout",
     "output_type": "stream",
     "text": [
      "/home/mila/v/venkatesh.ramesh/scratch/tree_data/image_time_series_data/z1/images_august/22\n"
     ]
    },
    {
     "name": "stderr",
     "output_type": "stream",
     "text": [
      "100%|██████████| 32/32 [02:28<00:00,  4.64s/it]\n"
     ]
    },
    {
     "name": "stdout",
     "output_type": "stream",
     "text": [
      "/home/mila/v/venkatesh.ramesh/scratch/tree_data/image_time_series_data/z1/images_september/22\n"
     ]
    },
    {
     "name": "stderr",
     "output_type": "stream",
     "text": [
      "100%|██████████| 32/32 [02:31<00:00,  4.74s/it]\n"
     ]
    },
    {
     "name": "stdout",
     "output_type": "stream",
     "text": [
      "/home/mila/v/venkatesh.ramesh/scratch/tree_data/image_time_series_data/z1/images_october/22\n"
     ]
    },
    {
     "name": "stderr",
     "output_type": "stream",
     "text": [
      "100%|██████████| 32/32 [02:30<00:00,  4.71s/it]\n"
     ]
    }
   ],
   "source": [
    "x_min = 1234916\n",
    "y_min = 1492300\n",
    "\n",
    "x_max = 1235011\n",
    "y_max = 1492398\n",
    "\n",
    "\n",
    "\n",
    "size = 768\n",
    "\n",
    "root_dir = '/home/mila/v/venkatesh.ramesh/scratch/tree_data/image_time_series_data/z1/'\n",
    "folders = os.listdir(root_dir)\n",
    "\n",
    "# check_path = '/home/mila/v/venkatesh.ramesh/scratch/tree_data/dataset_myriam_split_hierarchical/test/labels/zone1'\n",
    "check_path1 = '/home/mila/v/venkatesh.ramesh/scratch/tree_data/dataset_myriam_split_hierarchical/train/labels/zone1'\n",
    "check_path2 = '/home/mila/v/venkatesh.ramesh/scratch/tree_data/dataset_myriam_split_hierarchical/test/labels/zone1'\n",
    "\n",
    "for f in folders:\n",
    "    save_path = os.path.join(root_dir, f, 'zone1')\n",
    "    \n",
    "    image_path = os.path.join(root_dir, f, '22')\n",
    "    print(image_path)\n",
    "#     image_path = '/home/mila/v/venkatesh.ramesh/scratch/tree_data/image_time_series_data/z2/images_may/22'\n",
    "# save_path = '/home/mila/v/venkatesh.ramesh/scratch/tree_data/image_time_series_data/z2/images_may/zone2'\n",
    "\n",
    "    if not os.path.exists(save_path):\n",
    "        os.mkdir(save_path)\n",
    "\n",
    "    for x_ind in tqdm(range(x_min, x_max+1, 3)):\n",
    "        for y_ind in range(y_min, y_max+1, 3):\n",
    "\n",
    "\n",
    "\n",
    "            img = os.path.join(image_path, str(int(x_ind)), str(int(y_ind))+'.png')\n",
    "\n",
    "\n",
    "            base_size = 256\n",
    "\n",
    "            splits = img.split('/')\n",
    "            z, x, y = splits[-3], splits[-2], splits[-1].split('.')[0]\n",
    "\n",
    "            result = Image.new('RGB', (size, size), color=0)\n",
    "\n",
    "            i_count = 0\n",
    "            j_count = 0\n",
    "\n",
    "            assert (size//base_size) % 2 != 0, \"Size should be an odd multiple of of 256 so that (0, 0) tile is the centre of the stiched image.\"\n",
    "            # To loop from -i to i centered around 0. Might be a more elegant way to do this?\n",
    "            loop_range = int((size//base_size)/2)\n",
    "\n",
    "\n",
    "            for i in range(-loop_range, loop_range+1, 1):\n",
    "\n",
    "                j_count = 0\n",
    "                for j in range(-loop_range, loop_range+1, 1):\n",
    "                    try:\n",
    "                        temp_img = Image.open(os.path.join(image_path, str(int(x)+i), str(int(y)+j)+'.png'))           \n",
    "                    except:\n",
    "                        temp_img = Image.new('RGB', (base_size, base_size), color=0)\n",
    "\n",
    "                    result.paste(im=temp_img, box=(i_count*base_size, j_count*base_size))\n",
    "\n",
    "                    j_count += 1\n",
    "                i_count += 1\n",
    "\n",
    "    #         counts = np.array(np.unique(result))\n",
    "#             if os.path.isfile(os.path.join(check_path, str(int(x_ind))+'_'+str(int(y_ind))+'.png')):\n",
    "            if os.path.isfile(os.path.join(check_path1, str(int(x_ind))+'_'+str(int(y_ind))+'.png')) or os.path.isfile(os.path.join(check_path2, str(int(x_ind))+'_'+str(int(y_ind))+'.png')):\n",
    "                result.save(os.path.join(save_path, str(int(x_ind))+'_'+str(int(y_ind))+'.png'))"
   ]
  },
  {
   "cell_type": "code",
   "execution_count": 16,
   "metadata": {},
   "outputs": [],
   "source": [
    "from treemonitoring.utils import globalmaptiles as gmt"
   ]
  },
  {
   "cell_type": "code",
   "execution_count": 17,
   "metadata": {},
   "outputs": [],
   "source": [
    "g = gmt.GlobalMercator()"
   ]
  },
  {
   "cell_type": "code",
   "execution_count": 18,
   "metadata": {},
   "outputs": [],
   "source": [
    "def latlon_to_tile(lat, lon):\n",
    "    mx, my = g.LatLonToMeters(lat, lon)\n",
    "    tx, ty = g.MetersToTile(mx, my, zoom=22)\n",
    "    return tx, ty"
   ]
  },
  {
   "cell_type": "code",
   "execution_count": 19,
   "metadata": {},
   "outputs": [],
   "source": [
    "def tile_to_latlon(x, y, zoom=22):\n",
    "    coords = g.TileLatLonBounds(x, y, zoom=22)\n",
    "    return coords"
   ]
  },
  {
   "cell_type": "code",
   "execution_count": 20,
   "metadata": {},
   "outputs": [],
   "source": [
    "#zone3\n",
    "# -74.01019,45.99255 (left)\n",
    "# -74.00578,45.98935 (right)\n",
    "\n",
    "#zone2\n",
    "# -74.00736,45.99547 (left)\n",
    "# -73.99882,45.99165 (right)\n",
    "\n",
    "#zone1\n",
    "# -74.00626,45.99239 (left)\n",
    "# -73.99815,45.98658 (right)"
   ]
  },
  {
   "cell_type": "code",
   "execution_count": 44,
   "metadata": {},
   "outputs": [
    {
     "name": "stdout",
     "output_type": "stream",
     "text": [
      "1234916 1492300\n",
      "1235011 1492398\n"
     ]
    }
   ],
   "source": [
    "min_x, min_y = latlon_to_tile(-45.99239, -74.00626)\n",
    "\n",
    "print(min_x, min_y)\n",
    "\n",
    "max_x, max_y = latlon_to_tile(-45.98658, -73.99815)\n",
    "\n",
    "print(max_x, max_y)"
   ]
  },
  {
   "cell_type": "code",
   "execution_count": 90,
   "metadata": {},
   "outputs": [],
   "source": [
    "#zone1 val (region excluded from train)\n",
    "# -74.00500,45.99049 (left)\n",
    "# -74.00274,45.98992 (right)\n",
    "\n",
    "# -74.00513,45.98875 (left)\n",
    "# -74.00416,45.98802 (right)"
   ]
  },
  {
   "cell_type": "code",
   "execution_count": 14,
   "metadata": {},
   "outputs": [
    {
     "name": "stdout",
     "output_type": "stream",
     "text": [
      "1234922 1492351\n"
     ]
    }
   ],
   "source": [
    "min_x, min_y = latlon_to_tile(-45.98935, -74.00578)\n",
    "\n",
    "print(min_x, min_y)"
   ]
  },
  {
   "cell_type": "code",
   "execution_count": 98,
   "metadata": {},
   "outputs": [
    {
     "name": "stdout",
     "output_type": "stream",
     "text": [
      "1234941 1492373\n"
     ]
    }
   ],
   "source": [
    "max_x, max_y = latlon_to_tile(-45.98802, -74.00416)\n",
    "\n",
    "print(max_x, max_y)"
   ]
  },
  {
   "cell_type": "code",
   "execution_count": 140,
   "metadata": {},
   "outputs": [
    {
     "name": "stderr",
     "output_type": "stream",
     "text": [
      "100%|██████████| 32/32 [01:37<00:00,  3.05s/it]\n"
     ]
    }
   ],
   "source": [
    "# excluded = 0\n",
    "# used = 0\n",
    "\n",
    "# x_min = 1234916\n",
    "# y_min = 1492300\n",
    "\n",
    "# x_max = 1235011\n",
    "# y_max = 1492398\n",
    "\n",
    "# x_excluded1_min = 1234931\n",
    "# y_excluded1_min = 1492332\n",
    "\n",
    "# x_excluded1_max = 1234957\n",
    "# y_excluded1_max = 1492342\n",
    "\n",
    "# x_excluded2_min = 1234929\n",
    "# y_excluded2_min = 1492361\n",
    "\n",
    "# x_excluded2_max = 1234941\n",
    "# y_excluded2_max = 1492373\n",
    "\n",
    "\n",
    "# size = 768\n",
    "\n",
    "# # save_path = '/home/mila/v/venkatesh.ramesh/scratch/tree_data/dataset_myriam_split/train/images/zone1'\n",
    "# # check_path = '/home/mila/v/venkatesh.ramesh/scratch/tree_data/dataset_myriam_split/train/images/zone1'\n",
    "\n",
    "# for x_ind in tqdm(range(x_min, x_max+1, 3)):\n",
    "#     for y_ind in range(y_min, y_max+1, 3):\n",
    "        \n",
    "#         save_path = '/home/mila/v/venkatesh.ramesh/scratch/tree_data/dataset_myriam_split/train/labels/zone1'\n",
    "#         check_path = '/home/mila/v/venkatesh.ramesh/scratch/tree_data/dataset_myriam_split/train/images/zone1'\n",
    "        \n",
    "#         if x_excluded1_min <= x_ind <= x_excluded1_max:\n",
    "#             if y_excluded1_min <= y_ind <= y_excluded1_max:\n",
    "#                 excluded += 1\n",
    "#                 save_path = '/home/mila/v/venkatesh.ramesh/scratch/tree_data/dataset_myriam_split/test/labels/zone1'\n",
    "#                 check_path = '/home/mila/v/venkatesh.ramesh/scratch/tree_data/dataset_myriam_split/test/images/zone1'\n",
    "                \n",
    "#         elif x_excluded2_min <= x_ind <= x_excluded2_max:\n",
    "#             if y_excluded2_min <= y_ind <= y_excluded2_max:\n",
    "#                 excluded += 1\n",
    "#                 save_path = '/home/mila/v/venkatesh.ramesh/scratch/tree_data/dataset_myriam_split/test/labels/zone1'\n",
    "#                 check_path = '/home/mila/v/venkatesh.ramesh/scratch/tree_data/dataset_myriam_split/test/images/zone1' \n",
    "                \n",
    "                \n",
    "#         img = os.path.join(image_path, str(int(x_ind)), str(int(y_ind))+'.png')\n",
    "\n",
    "\n",
    "#         base_size = 256\n",
    "\n",
    "#         splits = img.split('/')\n",
    "#         z, x, y = splits[-3], splits[-2], splits[-1].split('.')[0]\n",
    "\n",
    "#         result = Image.new('RGB', (size, size), color=0)\n",
    "\n",
    "#         i_count = 0\n",
    "#         j_count = 0\n",
    "\n",
    "#         assert (size//base_size) % 2 != 0, \"Size should be an odd multiple of of 256 so that (0, 0) tile is the centre of the stiched image.\"\n",
    "#         # To loop from -i to i centered around 0. Might be a more elegant way to do this?\n",
    "#         loop_range = int((size//base_size)/2)\n",
    "\n",
    "\n",
    "\n",
    "#         for i in range(-loop_range, loop_range+1, 1):\n",
    "\n",
    "#             j_count = 0\n",
    "#             for j in range(-loop_range, loop_range+1, 1):\n",
    "#                 try:\n",
    "#                     temp_img = Image.open(os.path.join(image_path, str(int(x)+i), str(int(y)+j)+'.png'))           \n",
    "#                 except:\n",
    "#                     temp_img = Image.new('RGB', (base_size, base_size), color=0)\n",
    "\n",
    "#                 result.paste(im=temp_img, box=(i_count*base_size, j_count*base_size))\n",
    "\n",
    "#                 j_count += 1\n",
    "#             i_count += 1\n",
    "        \n",
    "#         counts = np.array(np.unique(result))\n",
    "        \n",
    "#         if os.path.isfile(os.path.join(check_path, str(int(x_ind))+'_'+str(int(y_ind))+'.png')):\n",
    "# #         if len(counts) > 1:\n",
    "#             result.save(os.path.join(save_path, str(int(x_ind))+'_'+str(int(y_ind))+'.png'))"
   ]
  },
  {
   "cell_type": "code",
   "execution_count": 129,
   "metadata": {},
   "outputs": [
    {
     "name": "stdout",
     "output_type": "stream",
     "text": [
      "36\n"
     ]
    }
   ],
   "source": [
    "print(excluded)"
   ]
  },
  {
   "cell_type": "markdown",
   "metadata": {},
   "source": [
    "### Find distrubution in each split"
   ]
  },
  {
   "cell_type": "code",
   "execution_count": 3,
   "metadata": {},
   "outputs": [],
   "source": [
    "import pandas as pd\n",
    "import numpy as np\n",
    "from PIL import Image"
   ]
  },
  {
   "cell_type": "code",
   "execution_count": 15,
   "metadata": {},
   "outputs": [],
   "source": [
    "data = pd.read_csv('/home/mila/v/venkatesh.ramesh/scratch/tree_data/splits/hierarchical/train_768.csv')"
   ]
  },
  {
   "cell_type": "code",
   "execution_count": 16,
   "metadata": {},
   "outputs": [],
   "source": [
    "labels_list = np.arange(0, 16, 1)\n",
    "freq_list = np.zeros((16, 1))"
   ]
  },
  {
   "cell_type": "code",
   "execution_count": 17,
   "metadata": {},
   "outputs": [],
   "source": [
    "freq_dict = dict(zip(labels_list, freq_list))"
   ]
  },
  {
   "cell_type": "code",
   "execution_count": 18,
   "metadata": {},
   "outputs": [],
   "source": [
    "for file in data['labels']:\n",
    "    img = np.array(Image.open(file))\n",
    "    unq_vals = np.unique(img[:, :, 0])\n",
    "#     print(unq_vals)\n",
    "    for val in unq_vals:\n",
    "        freq_dict[val] += 1"
   ]
  },
  {
   "cell_type": "code",
   "execution_count": 14,
   "metadata": {},
   "outputs": [
    {
     "data": {
      "text/plain": [
       "{0: array([215.]),\n",
       " 1: array([176.]),\n",
       " 2: array([177.]),\n",
       " 3: array([178.]),\n",
       " 4: array([175.]),\n",
       " 5: array([175.]),\n",
       " 6: array([172.]),\n",
       " 7: array([175.]),\n",
       " 8: array([157.]),\n",
       " 9: array([82.]),\n",
       " 10: array([154.]),\n",
       " 11: array([141.]),\n",
       " 12: array([128.]),\n",
       " 13: array([134.]),\n",
       " 14: array([55.]),\n",
       " 15: array([10.])}"
      ]
     },
     "execution_count": 14,
     "metadata": {},
     "output_type": "execute_result"
    }
   ],
   "source": [
    "# Validation\n",
    "freq_dict"
   ]
  },
  {
   "cell_type": "code",
   "execution_count": 19,
   "metadata": {},
   "outputs": [
    {
     "data": {
      "text/plain": [
       "{0: array([861.]),\n",
       " 1: array([720.]),\n",
       " 2: array([714.]),\n",
       " 3: array([717.]),\n",
       " 4: array([711.]),\n",
       " 5: array([706.]),\n",
       " 6: array([700.]),\n",
       " 7: array([702.]),\n",
       " 8: array([655.]),\n",
       " 9: array([331.]),\n",
       " 10: array([630.]),\n",
       " 11: array([584.]),\n",
       " 12: array([537.]),\n",
       " 13: array([543.]),\n",
       " 14: array([206.]),\n",
       " 15: array([31.])}"
      ]
     },
     "execution_count": 19,
     "metadata": {},
     "output_type": "execute_result"
    }
   ],
   "source": [
    "# Train\n",
    "freq_dict"
   ]
  },
  {
   "cell_type": "code",
   "execution_count": 9,
   "metadata": {},
   "outputs": [
    {
     "data": {
      "text/plain": [
       "{0: array([280.]),\n",
       " 1: array([228.]),\n",
       " 2: array([225.]),\n",
       " 3: array([226.]),\n",
       " 4: array([224.]),\n",
       " 5: array([221.]),\n",
       " 6: array([218.]),\n",
       " 7: array([217.]),\n",
       " 8: array([206.]),\n",
       " 9: array([188.]),\n",
       " 10: array([187.]),\n",
       " 11: array([167.]),\n",
       " 12: array([160.]),\n",
       " 13: array([157.]),\n",
       " 14: array([112.]),\n",
       " 15: array([18.])}"
      ]
     },
     "execution_count": 9,
     "metadata": {},
     "output_type": "execute_result"
    }
   ],
   "source": [
    "# Test\n",
    "freq_dict"
   ]
  },
  {
   "cell_type": "markdown",
   "metadata": {},
   "source": [
    "### Fix test/train-val regions"
   ]
  },
  {
   "cell_type": "code",
   "execution_count": 6,
   "metadata": {},
   "outputs": [],
   "source": [
    "#zone1 val (region excluded from train)\n",
    "# -74.00500,45.99049 (left)\n",
    "# -74.00274,45.98992 (right)\n",
    "\n",
    "# -74.00513,45.98875 (left)\n",
    "# -74.00416,45.98802 (right)"
   ]
  },
  {
   "cell_type": "code",
   "execution_count": 8,
   "metadata": {},
   "outputs": [],
   "source": [
    "#zone1 val new region (stricter bounds)\n",
    "# -74.00487,45.99041 (left)\n",
    "# -74.00287,45.98999 (right)\n",
    "\n",
    "# -74.00499,45.98868 (left)\n",
    "# -74.00433,45.98810 (right)"
   ]
  },
  {
   "cell_type": "code",
   "execution_count": 13,
   "metadata": {},
   "outputs": [
    {
     "name": "stdout",
     "output_type": "stream",
     "text": [
      "1234932 1492333\n"
     ]
    }
   ],
   "source": [
    "min_x, min_y = latlon_to_tile(-45.99041, -74.00487)\n",
    "\n",
    "print(min_x, min_y)"
   ]
  },
  {
   "cell_type": "code",
   "execution_count": 14,
   "metadata": {},
   "outputs": [
    {
     "name": "stdout",
     "output_type": "stream",
     "text": [
      "1234956 1492340\n"
     ]
    }
   ],
   "source": [
    "max_x, max_y = latlon_to_tile(-45.98999, -74.00287)\n",
    "\n",
    "print(max_x, max_y)"
   ]
  },
  {
   "cell_type": "code",
   "execution_count": 29,
   "metadata": {},
   "outputs": [
    {
     "name": "stdout",
     "output_type": "stream",
     "text": [
      "1234931 1492362\n",
      "1234939 1492372\n"
     ]
    }
   ],
   "source": [
    "min_x, min_y = latlon_to_tile(-45.98868, -74.00499)\n",
    "\n",
    "print(min_x, min_y)\n",
    "\n",
    "max_x, max_y = latlon_to_tile(-45.98810, -74.00433)\n",
    "\n",
    "print(max_x, max_y)"
   ]
  },
  {
   "cell_type": "code",
   "execution_count": 79,
   "metadata": {},
   "outputs": [],
   "source": [
    "test_image_path = '/home/mila/v/venkatesh.ramesh/scratch/tree_data/dataset_myriam_split/test/labels_removed_classes_2/zone1/'\n",
    "images_list = glob.glob(test_image_path + '/**/*.png', recursive=True)"
   ]
  },
  {
   "cell_type": "code",
   "execution_count": 80,
   "metadata": {},
   "outputs": [
    {
     "name": "stdout",
     "output_type": "stream",
     "text": [
      "24\n"
     ]
    }
   ],
   "source": [
    "x_min = 1234932\n",
    "x_max = 1234956\n",
    "\n",
    "y_min = 1492333\n",
    "y_max = 1492340\n",
    "\n",
    "tomove = 0\n",
    "not_zone1_test = []\n",
    "\n",
    "for im in images_list:\n",
    "    nums = im.split('/')[-1].split('.')[0]\n",
    "    x, y = nums.split('_')\n",
    "    \n",
    "    if x_min <= int(x) <= x_max and y_min <= int(y) <= y_max:\n",
    "            tomove += 1\n",
    "    else:\n",
    "        not_zone1_test.append(im)\n",
    "        \n",
    "print(tomove)"
   ]
  },
  {
   "cell_type": "code",
   "execution_count": 81,
   "metadata": {},
   "outputs": [
    {
     "data": {
      "text/plain": [
       "['/home/mila/v/venkatesh.ramesh/scratch/tree_data/dataset_myriam_split/test/labels_removed_classes_2/zone1/1234949_1492342.png',\n",
       " '/home/mila/v/venkatesh.ramesh/scratch/tree_data/dataset_myriam_split/test/labels_removed_classes_2/zone1/1234931_1492333.png',\n",
       " '/home/mila/v/venkatesh.ramesh/scratch/tree_data/dataset_myriam_split/test/labels_removed_classes_2/zone1/1234955_1492342.png',\n",
       " '/home/mila/v/venkatesh.ramesh/scratch/tree_data/dataset_myriam_split/test/labels_removed_classes_2/zone1/1234952_1492342.png',\n",
       " '/home/mila/v/venkatesh.ramesh/scratch/tree_data/dataset_myriam_split/test/labels_removed_classes_2/zone1/1234934_1492342.png',\n",
       " '/home/mila/v/venkatesh.ramesh/scratch/tree_data/dataset_myriam_split/test/labels_removed_classes_2/zone1/1234931_1492336.png',\n",
       " '/home/mila/v/venkatesh.ramesh/scratch/tree_data/dataset_myriam_split/test/labels_removed_classes_2/zone1/1234946_1492342.png',\n",
       " '/home/mila/v/venkatesh.ramesh/scratch/tree_data/dataset_myriam_split/test/labels_removed_classes_2/zone1/1234931_1492339.png',\n",
       " '/home/mila/v/venkatesh.ramesh/scratch/tree_data/dataset_myriam_split/test/labels_removed_classes_2/zone1/1234937_1492342.png',\n",
       " '/home/mila/v/venkatesh.ramesh/scratch/tree_data/dataset_myriam_split/test/labels_removed_classes_2/zone1/1234940_1492342.png',\n",
       " '/home/mila/v/venkatesh.ramesh/scratch/tree_data/dataset_myriam_split/test/labels_removed_classes_2/zone1/1234931_1492342.png',\n",
       " '/home/mila/v/venkatesh.ramesh/scratch/tree_data/dataset_myriam_split/test/labels_removed_classes_2/zone1/1234943_1492342.png']"
      ]
     },
     "execution_count": 81,
     "metadata": {},
     "output_type": "execute_result"
    }
   ],
   "source": [
    "not_zone1_test"
   ]
  },
  {
   "cell_type": "code",
   "execution_count": 82,
   "metadata": {},
   "outputs": [
    {
     "data": {
      "text/plain": [
       "12"
      ]
     },
     "execution_count": 82,
     "metadata": {},
     "output_type": "execute_result"
    }
   ],
   "source": [
    "len(not_zone1_test)"
   ]
  },
  {
   "cell_type": "code",
   "execution_count": 52,
   "metadata": {},
   "outputs": [],
   "source": [
    "coordinates = tile_to_latlon(1234949, 1492342)"
   ]
  },
  {
   "cell_type": "code",
   "execution_count": 53,
   "metadata": {},
   "outputs": [
    {
     "name": "stdout",
     "output_type": "stream",
     "text": [
      "(-45.98992526982915, -74.00347709655762, -45.98986563593531, -74.00339126586913)\n"
     ]
    }
   ],
   "source": [
    "print(coordinates)"
   ]
  },
  {
   "cell_type": "code",
   "execution_count": 77,
   "metadata": {},
   "outputs": [
    {
     "name": "stdout",
     "output_type": "stream",
     "text": [
      "12\n"
     ]
    }
   ],
   "source": [
    "x_min = 1234931\n",
    "x_max = 1234939\n",
    "\n",
    "y_min = 1492362\n",
    "y_max = 1492372\n",
    "\n",
    "tomove = 0\n",
    "not_zone1_train = []\n",
    "\n",
    "for im in images_list:\n",
    "    nums = im.split('/')[-1].split('.')[0]\n",
    "    x, y = nums.split('_')\n",
    "    \n",
    "    if x_min <= int(x) <= x_max and y_min <= int(y) <= y_max:\n",
    "            tomove += 1\n",
    "            not_zone1_train.append(im)\n",
    "        \n",
    "\n",
    "print(tomove)"
   ]
  },
  {
   "cell_type": "code",
   "execution_count": 78,
   "metadata": {},
   "outputs": [
    {
     "data": {
      "text/plain": [
       "['/home/mila/v/venkatesh.ramesh/scratch/tree_data/dataset_myriam_split/train/labels_removed_classes_2/zone1/1234934_1492363.png',\n",
       " '/home/mila/v/venkatesh.ramesh/scratch/tree_data/dataset_myriam_split/train/labels_removed_classes_2/zone1/1234934_1492366.png',\n",
       " '/home/mila/v/venkatesh.ramesh/scratch/tree_data/dataset_myriam_split/train/labels_removed_classes_2/zone1/1234934_1492372.png',\n",
       " '/home/mila/v/venkatesh.ramesh/scratch/tree_data/dataset_myriam_split/train/labels_removed_classes_2/zone1/1234937_1492369.png',\n",
       " '/home/mila/v/venkatesh.ramesh/scratch/tree_data/dataset_myriam_split/train/labels_removed_classes_2/zone1/1234931_1492369.png',\n",
       " '/home/mila/v/venkatesh.ramesh/scratch/tree_data/dataset_myriam_split/train/labels_removed_classes_2/zone1/1234934_1492369.png',\n",
       " '/home/mila/v/venkatesh.ramesh/scratch/tree_data/dataset_myriam_split/train/labels_removed_classes_2/zone1/1234931_1492366.png',\n",
       " '/home/mila/v/venkatesh.ramesh/scratch/tree_data/dataset_myriam_split/train/labels_removed_classes_2/zone1/1234931_1492372.png',\n",
       " '/home/mila/v/venkatesh.ramesh/scratch/tree_data/dataset_myriam_split/train/labels_removed_classes_2/zone1/1234937_1492366.png',\n",
       " '/home/mila/v/venkatesh.ramesh/scratch/tree_data/dataset_myriam_split/train/labels_removed_classes_2/zone1/1234937_1492363.png',\n",
       " '/home/mila/v/venkatesh.ramesh/scratch/tree_data/dataset_myriam_split/train/labels_removed_classes_2/zone1/1234937_1492372.png',\n",
       " '/home/mila/v/venkatesh.ramesh/scratch/tree_data/dataset_myriam_split/train/labels_removed_classes_2/zone1/1234931_1492363.png']"
      ]
     },
     "execution_count": 78,
     "metadata": {},
     "output_type": "execute_result"
    }
   ],
   "source": [
    "not_zone1_train"
   ]
  },
  {
   "cell_type": "code",
   "execution_count": 70,
   "metadata": {},
   "outputs": [
    {
     "data": {
      "text/plain": [
       "12"
      ]
     },
     "execution_count": 70,
     "metadata": {},
     "output_type": "execute_result"
    }
   ],
   "source": [
    "len(not_zone1_train)"
   ]
  },
  {
   "cell_type": "code",
   "execution_count": 67,
   "metadata": {},
   "outputs": [],
   "source": [
    "coordinates = tile_to_latlon(1234934, 1492366)"
   ]
  },
  {
   "cell_type": "code",
   "execution_count": 68,
   "metadata": {},
   "outputs": [
    {
     "data": {
      "text/plain": [
       "(-45.98849403864405, -74.00476455688475, -45.98843440320822, -74.0046787261963)"
      ]
     },
     "execution_count": 68,
     "metadata": {},
     "output_type": "execute_result"
    }
   ],
   "source": [
    "coordinates"
   ]
  },
  {
   "cell_type": "code",
   "execution_count": 84,
   "metadata": {},
   "outputs": [],
   "source": [
    "import shutil\n",
    "\n",
    "for files in not_zone1_test:\n",
    "    shutil.move(files, '/home/mila/v/venkatesh.ramesh/scratch/tree_data/dataset_myriam_split/train/labels_removed_classes_2/zone1/')"
   ]
  },
  {
   "cell_type": "code",
   "execution_count": 85,
   "metadata": {},
   "outputs": [],
   "source": [
    "import shutil\n",
    "\n",
    "for files in not_zone1_train:\n",
    "    shutil.move(files, '/home/mila/v/venkatesh.ramesh/scratch/tree_data/dataset_myriam_split/test/labels_removed_classes_2/zone1/')"
   ]
  },
  {
   "cell_type": "code",
   "execution_count": null,
   "metadata": {},
   "outputs": [],
   "source": []
  }
 ],
 "metadata": {
  "kernelspec": {
   "display_name": "eo",
   "language": "python",
   "name": "eo"
  },
  "language_info": {
   "codemirror_mode": {
    "name": "ipython",
    "version": 3
   },
   "file_extension": ".py",
   "mimetype": "text/x-python",
   "name": "python",
   "nbconvert_exporter": "python",
   "pygments_lexer": "ipython3",
   "version": "3.10.8"
  }
 },
 "nbformat": 4,
 "nbformat_minor": 4
}
