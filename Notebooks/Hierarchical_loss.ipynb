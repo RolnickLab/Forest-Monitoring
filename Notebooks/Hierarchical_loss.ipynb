{
 "cells": [
  {
   "cell_type": "code",
   "execution_count": 1,
   "metadata": {},
   "outputs": [
    {
     "name": "stderr",
     "output_type": "stream",
     "text": [
      "/home/mila/v/venkatesh.ramesh/.conda/envs/ds/lib/python3.10/site-packages/tqdm/auto.py:22: TqdmWarning: IProgress not found. Please update jupyter and ipywidgets. See https://ipywidgets.readthedocs.io/en/stable/user_install.html\n",
      "  from .autonotebook import tqdm as notebook_tqdm\n"
     ]
    }
   ],
   "source": [
    "import torch\n",
    "import torch.nn as nn\n",
    "# import torch.nn.functional as F\n",
    "from torchvision.transforms.functional import to_tensor, to_pil_image\n",
    "from PIL import Image\n",
    "import numpy as np\n",
    "import glob\n",
    "from tqdm import tqdm"
   ]
  },
  {
   "cell_type": "markdown",
   "metadata": {},
   "source": [
    "### Creating masked label m_i"
   ]
  },
  {
   "cell_type": "code",
   "execution_count": 125,
   "metadata": {},
   "outputs": [],
   "source": [
    "image_path = '/home/mila/v/venkatesh.ramesh/scratch/Tree-Monitoring/hloss_imgs/images/'\n",
    "label_path = '/home/mila/v/venkatesh.ramesh/scratch/Tree-Monitoring/hloss_imgs/labels/'\n",
    "masks_path = '/home/mila/v/venkatesh.ramesh/scratch/Tree-Monitoring/hloss_imgs/masks/'"
   ]
  },
  {
   "cell_type": "code",
   "execution_count": 126,
   "metadata": {},
   "outputs": [],
   "source": [
    "label_list = glob.glob(label_path + '/**/*.png', recursive=True)"
   ]
  },
  {
   "cell_type": "code",
   "execution_count": 14,
   "metadata": {},
   "outputs": [],
   "source": [
    "species_level = {\"ABBA\": 3, \"ACPE\": 3, \"ACRU\": 3, \"ACSA\": 3, \"Acer\": 2, \"BEAL\": 3, \"BEPA\": 3, \"BEPO\": 3, \"Betula\": 2, \"Conifere\": 1, \"FAGR\": 3, \"FRNI\": 3, \"Feuillus\": 1, \"LALA\": 3, \"PIGL\": 3, \"PIMA\": 3, \"PIRU\": 3, \"PIST\": 3, \"POBA\": 3, \"POGR\": 3, \"POTR\": 3, \"PRPE\": 3, \"Picea\": 2, \"Populus\": 2, \"QURU\": 3, \"THOC\": 3, \"TSCA\": 3, \"OSVI\": 3, \"Mort\": 3}\n",
    "\n",
    "#1: Class-level\n",
    "#2: Genus\n",
    "#3: Species"
   ]
  },
  {
   "cell_type": "code",
   "execution_count": 15,
   "metadata": {},
   "outputs": [],
   "source": [
    "myriam_classes = {\"ABBA\": 1, \"ACPE\": 2, \"ACRU\": 3, \"ACSA\": 4, \"BEAL\": 5, \"BEPA\": 6, \"FAGR\": 7, \"LALA\": 8, \"Mort\": 9, \"PIST\": 10, \"Picea\": 11, \"Populus\": 12, \"THOC\": 13, \"TSCA\": 14}"
   ]
  },
  {
   "cell_type": "code",
   "execution_count": 16,
   "metadata": {},
   "outputs": [],
   "source": [
    "species_id_level = {}\n",
    "for k in myriam_classes:\n",
    "    species_id_level[myriam_classes[k]] = species_level[k]\n",
    "#     print(k, all_species[k])"
   ]
  },
  {
   "cell_type": "code",
   "execution_count": 17,
   "metadata": {},
   "outputs": [],
   "source": [
    "# species_id_level"
   ]
  },
  {
   "cell_type": "code",
   "execution_count": 18,
   "metadata": {},
   "outputs": [],
   "source": [
    "def three_level_image(path):\n",
    "    img = np.array(Image.open(path))\n",
    "    for id in species_id_level:\n",
    "#         print(id, species_id_level[id])\n",
    "        img[img == id] = species_id_level[id]\n",
    "    return Image.fromarray(img)"
   ]
  },
  {
   "cell_type": "code",
   "execution_count": 19,
   "metadata": {},
   "outputs": [],
   "source": [
    "# # for item in label_list:\n",
    "# z = three_level_image('/home/mila/v/venkatesh.ramesh/scratch/Tree-Monitoring/hloss_imgs/labels/1234961_1492330.png')\n",
    "# z.save('/home/mila/v/venkatesh.ramesh/scratch/Tree-Monitoring/hloss_imgs/masks/1234961_1492330.png')"
   ]
  },
  {
   "cell_type": "markdown",
   "metadata": {},
   "source": [
    "### Masked Tensor & Dataset Loop"
   ]
  },
  {
   "cell_type": "code",
   "execution_count": 20,
   "metadata": {},
   "outputs": [],
   "source": [
    "image_list = glob.glob(image_path + '/**/*.png', recursive=True)\n",
    "label_list = glob.glob(label_path + '/**/*.png', recursive=True)\n",
    "masks_list = glob.glob(masks_path + '/**/*.png', recursive=True)"
   ]
  },
  {
   "cell_type": "code",
   "execution_count": 2,
   "metadata": {},
   "outputs": [],
   "source": [
    "def make_tensor(files):\n",
    "    img_0 = torch.tensor(np.array(Image.open(files[0])))\n",
    "    img_0 = img_0.unsqueeze(0)\n",
    "        \n",
    "    for item in files[1:]:\n",
    "        temp = torch.tensor(np.array(Image.open(item))).unsqueeze(0)\n",
    "        img_0 = torch.cat((img_0, temp))\n",
    "        \n",
    "    if len(img_0.shape) == 3:\n",
    "        img_0 = img_0.unsqueeze(3)\n",
    "\n",
    "    img_0 = torch.permute(img_0, (0, 3, 1, 2))\n",
    "    return img_0"
   ]
  },
  {
   "cell_type": "code",
   "execution_count": 23,
   "metadata": {},
   "outputs": [
    {
     "name": "stdout",
     "output_type": "stream",
     "text": [
      "torch.Size([1, 768, 768, 3])\n"
     ]
    }
   ],
   "source": [
    "imgs = make_tensor(image_list)\n",
    "gt = make_tensor(label_list)\n",
    "masks = make_tensor(masks_list)"
   ]
  },
  {
   "cell_type": "code",
   "execution_count": 13,
   "metadata": {},
   "outputs": [
    {
     "name": "stdout",
     "output_type": "stream",
     "text": [
      "torch.Size([2, 3, 768, 768]) torch.Size([2, 1, 768, 768]) torch.Size([2, 1, 768, 768])\n"
     ]
    }
   ],
   "source": [
    "print(imgs.shape, gt.shape, masks.shape)"
   ]
  },
  {
   "cell_type": "code",
   "execution_count": 14,
   "metadata": {},
   "outputs": [],
   "source": [
    "batch_mask = torch.zeros(2, 3, 768, 768)\n",
    "\n",
    "for i, (img_i, mask_i, label_i) in enumerate(zip(imgs, masks, gt)):\n",
    "    mask_i = mask_i.squeeze()\n",
    "    batch_mask[i][0][mask_i == 1] = 1\n",
    "    batch_mask[i][1][mask_i == 2] = 1\n",
    "    batch_mask[i][2][mask_i == 3] = 1\n",
    "    \n",
    "#     temp = batch_mask\n",
    "#     break"
   ]
  },
  {
   "cell_type": "code",
   "execution_count": 15,
   "metadata": {},
   "outputs": [
    {
     "data": {
      "text/plain": [
       "torch.Size([2, 3, 768, 768])"
      ]
     },
     "execution_count": 15,
     "metadata": {},
     "output_type": "execute_result"
    }
   ],
   "source": [
    "batch_mask.shape"
   ]
  },
  {
   "cell_type": "code",
   "execution_count": 16,
   "metadata": {},
   "outputs": [],
   "source": [
    "# test = temp[0, :, :, :]\n",
    "# # test *= 30\n",
    "# print(torch.unique(test))\n",
    "# test = to_pil_image(test)"
   ]
  },
  {
   "cell_type": "markdown",
   "metadata": {},
   "source": [
    "### Apply masking and softmax aggregation"
   ]
  },
  {
   "cell_type": "code",
   "execution_count": 17,
   "metadata": {},
   "outputs": [
    {
     "name": "stdout",
     "output_type": "stream",
     "text": [
      "torch.Size([2, 1, 768, 768]) torch.Size([2, 3, 768, 768])\n"
     ]
    }
   ],
   "source": [
    "print(gt.shape, batch_mask.shape)"
   ]
  },
  {
   "cell_type": "markdown",
   "metadata": {},
   "source": [
    "#### Masking GT"
   ]
  },
  {
   "cell_type": "code",
   "execution_count": 18,
   "metadata": {},
   "outputs": [
    {
     "name": "stdout",
     "output_type": "stream",
     "text": [
      "torch.Size([2, 3, 768, 768])\n"
     ]
    }
   ],
   "source": [
    "masked_gt = gt * batch_mask\n",
    "print(masked_gt.shape)"
   ]
  },
  {
   "cell_type": "code",
   "execution_count": 19,
   "metadata": {},
   "outputs": [],
   "source": [
    "# Test Visulization\n",
    "# img1_lev0 = to_pil_image(masked_gt[0, 1, :, :])"
   ]
  },
  {
   "cell_type": "markdown",
   "metadata": {},
   "source": [
    "#### Preds Softmax"
   ]
  },
  {
   "cell_type": "code",
   "execution_count": 20,
   "metadata": {},
   "outputs": [],
   "source": [
    "preds = torch.rand((2, 14, 768, 768))\n",
    "softmax = nn.Softmax2d() \n",
    "y_hat = softmax(preds)"
   ]
  },
  {
   "cell_type": "code",
   "execution_count": 21,
   "metadata": {},
   "outputs": [
    {
     "data": {
      "text/plain": [
       "torch.Size([2, 14, 768, 768])"
      ]
     },
     "execution_count": 21,
     "metadata": {},
     "output_type": "execute_result"
    }
   ],
   "source": [
    "y_hat.shape"
   ]
  },
  {
   "cell_type": "code",
   "execution_count": 22,
   "metadata": {},
   "outputs": [],
   "source": [
    "# print(y_hat.sum(1))"
   ]
  },
  {
   "cell_type": "code",
   "execution_count": 23,
   "metadata": {},
   "outputs": [],
   "source": [
    "myriam_classes = {\"ABBA\": 1, \"ACPE\": 2, \"ACRU\": 3, \"ACSA\": 4, \"BEAL\": 5, \"BEPA\": 6, \"FAGR\": 7, \"LALA\": 8, \"Mort\": 9, \"PIST\": 10, \"Picea\": 11, \"Populus\": 12, \"THOC\": 13, \"TSCA\": 14}"
   ]
  },
  {
   "cell_type": "code",
   "execution_count": 24,
   "metadata": {},
   "outputs": [],
   "source": [
    "# abba_sp = y_hat[:, 0, :, :]\n",
    "# acer_sp = y_hat[:, 1:4, :, :]\n",
    "# be_sp = y_hat[:, 4:6, :, :]\n",
    "# fagr_sp = y_hat[:, 6, :, :]\n",
    "# lala_sp = y_hat[:, 7, :, :]\n",
    "# pist_sp = y_hat[:, 9, :, :]\n",
    "# picea_sp = y_hat[:, 10, :, :]\n",
    "# populus_sp = y_hat[:, 11, :, :]\n",
    "# th_sp = y_hat[:, 12:14, :, :]"
   ]
  },
  {
   "cell_type": "code",
   "execution_count": 25,
   "metadata": {},
   "outputs": [],
   "source": [
    "y_hat_list = [y_hat[:, 0, :, :],y_hat[:, 1:4, :, :],y_hat[:, 4:6, :, :],y_hat[:, 6, :, :],y_hat[:, 7, :, :], y_hat[:, 8, :, :], y_hat[:, 9, :, :],y_hat[:, 10, :, :],y_hat[:, 11, :, :]\n",
    ",y_hat[:, 12:14, :, :]] ## Temporarily adding dead tree class for checking softmax probabilities"
   ]
  },
  {
   "cell_type": "code",
   "execution_count": 42,
   "metadata": {},
   "outputs": [
    {
     "name": "stdout",
     "output_type": "stream",
     "text": [
      "torch.Size([2, 1, 768, 768])\n",
      "torch.Size([2, 3, 768, 768])\n",
      "torch.Size([2, 2, 768, 768])\n",
      "torch.Size([2, 1, 768, 768])\n",
      "torch.Size([2, 1, 768, 768])\n",
      "torch.Size([2, 1, 768, 768])\n",
      "torch.Size([2, 1, 768, 768])\n",
      "torch.Size([2, 1, 768, 768])\n",
      "torch.Size([2, 1, 768, 768])\n",
      "torch.Size([2, 2, 768, 768])\n"
     ]
    }
   ],
   "source": [
    "for i, tensor in enumerate(y_hat_list):\n",
    "    if len(tensor.shape) == 3:\n",
    "        y_hat_list[i] = tensor.unsqueeze(1)\n",
    "    print(tensor.shape)"
   ]
  },
  {
   "cell_type": "code",
   "execution_count": 40,
   "metadata": {},
   "outputs": [],
   "source": [
    "genus_tensor = y_hat_list[0]\n",
    "# print(genus_tensor.shape)\n",
    "for tensor in y_hat_list[1:]:\n",
    "#     print(tensor.shape)\n",
    "    genus_tensor = torch.cat((genus_tensor, tensor), dim=1)"
   ]
  },
  {
   "cell_type": "code",
   "execution_count": 41,
   "metadata": {},
   "outputs": [
    {
     "data": {
      "text/plain": [
       "torch.Size([2, 14, 768, 768])"
      ]
     },
     "execution_count": 41,
     "metadata": {},
     "output_type": "execute_result"
    }
   ],
   "source": [
    "genus_tensor.shape # One class less because no dead tree"
   ]
  },
  {
   "cell_type": "code",
   "execution_count": null,
   "metadata": {},
   "outputs": [],
   "source": [
    "print(print(genus_tensor.sum(1)))"
   ]
  },
  {
   "cell_type": "markdown",
   "metadata": {},
   "source": [
    "## Labels Creation (According to before)"
   ]
  },
  {
   "cell_type": "code",
   "execution_count": 10,
   "metadata": {},
   "outputs": [],
   "source": [
    "myriam_classes_sp = {\"ABBA\": 1, \"ACPE\": 2, \"ACRU\": 3, \"ACSA\": 4, \"BEAL\": 5, \"BEPA\": 6, \"FAGR\": 7, \"LALA\": 8, \"Mort\": 9, \"PIST\": 10, \"Picea\": 11, \"Populus\": 12, \"THOC\": 13, \"TSCA\": 14}"
   ]
  },
  {
   "cell_type": "code",
   "execution_count": 11,
   "metadata": {},
   "outputs": [],
   "source": [
    "myriam_classes_ge = {\"ABBA\": 1, \"Acer_sp\": 2, \"Betula\": 3, \"FAGR\": 4, \"LALA\": 5, \"Mort\": 6, \"PIST\": 7, \"Picea\": 8, \"Populus\": 9, \"THOC\": 10, \"TSCA\": 11}\n",
    "ge_sp_mapping = {1: 1, 2: [2, 3, 4], 3: [5, 6], 4: 7, 5 : 8, 6 : 9, 7: 10, 8: 11, 9: 12, 10: 13, 11: 14}\n",
    "# ge_sp_mapping_sequential = {1: 1, 2: 2, 2: 3, 2: 4, 3: 5, 3: 6, 4: 7, 5 : 8, 6 : 9, 7: 10, 8: 11, 9: 12, 10: 13, 11: 14}"
   ]
  },
  {
   "cell_type": "code",
   "execution_count": 12,
   "metadata": {},
   "outputs": [],
   "source": [
    "myriam_classes_fa = {\"Conifer\": 1, \"Non_Conifer\": 2, \"Palm\": 3, \"Mort\": 4}\n",
    "fa_ge_mapping = {1: [1, 7, 8, 10, 11], 2: [2, 3, 4, 9], 3: 5, 4: 6}"
   ]
  },
  {
   "cell_type": "code",
   "execution_count": 13,
   "metadata": {},
   "outputs": [],
   "source": [
    "image_path = '/home/mila/v/venkatesh.ramesh/scratch/Tree-Monitoring/hloss_imgs/images/'\n",
    "label_path = '/home/mila/v/venkatesh.ramesh/scratch/Tree-Monitoring/hloss_imgs/labels/'"
   ]
  },
  {
   "cell_type": "code",
   "execution_count": 14,
   "metadata": {},
   "outputs": [],
   "source": [
    "image_list = glob.glob(image_path + '/**/*.png', recursive=True)\n",
    "label_list = glob.glob(label_path + '/**/*.png', recursive=True)"
   ]
  },
  {
   "cell_type": "code",
   "execution_count": 15,
   "metadata": {},
   "outputs": [],
   "source": [
    "imgs = make_tensor(image_list)\n",
    "gt = make_tensor(label_list)"
   ]
  },
  {
   "cell_type": "code",
   "execution_count": 16,
   "metadata": {},
   "outputs": [
    {
     "name": "stdout",
     "output_type": "stream",
     "text": [
      "torch.Size([6, 3, 768, 768]) torch.Size([6, 1, 768, 768])\n"
     ]
    }
   ],
   "source": [
    "print(imgs.shape, gt.shape)"
   ]
  },
  {
   "cell_type": "code",
   "execution_count": 17,
   "metadata": {},
   "outputs": [
    {
     "name": "stdout",
     "output_type": "stream",
     "text": [
      "[1, 2, 3, 4, 5, 6, 7, 8, 9, 10, 11] 11 [1, [2, 3, 4], [5, 6], 7, 8, 9, 10, 11, 12, 13, 14] 11\n"
     ]
    }
   ],
   "source": [
    "vals_sp = list(ge_sp_mapping.values())\n",
    "keys_sp = list(ge_sp_mapping.keys())\n",
    "print(keys_sp, len(keys_sp), vals_sp, len(vals_sp))"
   ]
  },
  {
   "cell_type": "code",
   "execution_count": 18,
   "metadata": {},
   "outputs": [
    {
     "name": "stdout",
     "output_type": "stream",
     "text": [
      "[1, 2, 3, 4] 4 [[1, 7, 8, 10, 11], [2, 3, 4, 9], 5, 6] 4\n"
     ]
    }
   ],
   "source": [
    "vals_fa = list(fa_ge_mapping.values())\n",
    "keys_fa = list(fa_ge_mapping.keys())\n",
    "print(keys_fa, len(keys_fa), vals_fa, len(vals_fa))"
   ]
  },
  {
   "cell_type": "code",
   "execution_count": 19,
   "metadata": {},
   "outputs": [],
   "source": [
    "def create_level_masks(img):\n",
    "    img = np.array(Image.open(img))\n",
    "    \n",
    "    img_sp = make_sp_lvl(img)\n",
    "    img_sp_copy = img_sp.copy()\n",
    "    img_fam = make_fa_lvl(img_sp_copy)\n",
    "    \n",
    "    return Image.fromarray(img_sp), Image.fromarray(img_fam)\n",
    "    \n",
    "def make_sp_lvl(img):\n",
    "    vals_sp = list(ge_sp_mapping.values())\n",
    "    keys_sp = list(ge_sp_mapping.keys())\n",
    "    for sp, gen in zip(keys_sp, vals_sp):\n",
    "        if isinstance(gen, list):\n",
    "            for i in gen:\n",
    "                img[img == i] = sp\n",
    "        else:\n",
    "            img[img == gen] = sp\n",
    "            \n",
    "    return img\n",
    "\n",
    "def make_fa_lvl(img):\n",
    "    vals_fa = list(fa_ge_mapping.values())\n",
    "    keys_fa = list(fa_ge_mapping.keys())\n",
    "    for ge, fam in zip(keys_fa, vals_fa):\n",
    "        if isinstance(fam, list):\n",
    "            for i in fam:\n",
    "                img[img == i] = ge\n",
    "        else:\n",
    "            img[img == fam] = ge\n",
    "            \n",
    "    return img"
   ]
  },
  {
   "cell_type": "code",
   "execution_count": 13,
   "metadata": {},
   "outputs": [],
   "source": [
    "sp_img, fam_img = create_level_masks(label_list[3])"
   ]
  },
  {
   "cell_type": "code",
   "execution_count": 14,
   "metadata": {},
   "outputs": [
    {
     "name": "stdout",
     "output_type": "stream",
     "text": [
      "[0 1 2 3 4 5 6 7 9]\n",
      "[0 1 2 3 4]\n"
     ]
    },
    {
     "data": {
      "text/plain": [
       "(None, None)"
      ]
     },
     "execution_count": 14,
     "metadata": {},
     "output_type": "execute_result"
    }
   ],
   "source": [
    "print(np.unique(sp_img)), print(np.unique(fam_img))"
   ]
  },
  {
   "cell_type": "code",
   "execution_count": 15,
   "metadata": {},
   "outputs": [
    {
     "data": {
      "image/png": "[encoded data removed]",
      "text/plain": [
       "<PIL.Image.Image image mode=L size=768x768>"
      ]
     },
     "execution_count": 15,
     "metadata": {},
     "output_type": "execute_result"
    }
   ],
   "source": [
    "Image.fromarray(np.array(Image.open((label_list[3])))*20)"
   ]
  },
  {
   "cell_type": "code",
   "execution_count": 16,
   "metadata": {},
   "outputs": [
    {
     "data": {
      "image/png": "[encoded data removed]",
      "text/plain": [
       "<PIL.Image.Image image mode=L size=768x768>"
      ]
     },
     "execution_count": 16,
     "metadata": {},
     "output_type": "execute_result"
    }
   ],
   "source": [
    "Image.fromarray(sp_img*20)"
   ]
  },
  {
   "cell_type": "code",
   "execution_count": 17,
   "metadata": {},
   "outputs": [
    {
     "data": {
      "image/png": "[encoded data removed]",
      "text/plain": [
       "<PIL.Image.Image image mode=L size=768x768>"
      ]
     },
     "execution_count": 17,
     "metadata": {},
     "output_type": "execute_result"
    }
   ],
   "source": [
    "Image.fromarray(fam_img*20)"
   ]
  },
  {
   "cell_type": "markdown",
   "metadata": {},
   "source": [
    "## Probabilities aggregation"
   ]
  },
  {
   "cell_type": "code",
   "execution_count": 18,
   "metadata": {},
   "outputs": [],
   "source": [
    "preds = torch.rand((1, 14, 768, 768))\n",
    "softmax = nn.LogSoftmax(dim=1) #nn.Softmax2d() \n",
    "y_hat = softmax(preds)"
   ]
  },
  {
   "cell_type": "markdown",
   "metadata": {},
   "source": [
    "### Genus level"
   ]
  },
  {
   "cell_type": "code",
   "execution_count": 19,
   "metadata": {},
   "outputs": [],
   "source": [
    "y_hat_list = [y_hat[:, 0, :, :],y_hat[:, 1:4, :, :],y_hat[:, 4:6, :, :],y_hat[:, 6, :, :],y_hat[:, 7, :, :], y_hat[:, 8, :, :], y_hat[:, 9, :, :],y_hat[:, 10, :, :],y_hat[:, 11, :, :]\n",
    ",y_hat[:, 12, :, :], y_hat[:, 13, :, :]]"
   ]
  },
  {
   "cell_type": "code",
   "execution_count": 20,
   "metadata": {},
   "outputs": [
    {
     "name": "stdout",
     "output_type": "stream",
     "text": [
      "torch.Size([1, 768, 768])\n",
      "torch.Size([1, 3, 768, 768])\n",
      "torch.Size([1, 2, 768, 768])\n",
      "torch.Size([1, 768, 768])\n",
      "torch.Size([1, 768, 768])\n",
      "torch.Size([1, 768, 768])\n",
      "torch.Size([1, 768, 768])\n",
      "torch.Size([1, 768, 768])\n",
      "torch.Size([1, 768, 768])\n",
      "torch.Size([1, 768, 768])\n",
      "torch.Size([1, 768, 768])\n"
     ]
    }
   ],
   "source": [
    "for i, tensor in enumerate(y_hat_list):\n",
    "    if len(tensor.shape) == 3:\n",
    "        y_hat_list[i] = tensor.unsqueeze(1)\n",
    "    print(tensor.shape)"
   ]
  },
  {
   "cell_type": "code",
   "execution_count": 21,
   "metadata": {},
   "outputs": [
    {
     "data": {
      "text/plain": [
       "{1: 1,\n",
       " 2: [2, 3, 4],\n",
       " 3: [5, 6],\n",
       " 4: 7,\n",
       " 5: 8,\n",
       " 6: 9,\n",
       " 7: 10,\n",
       " 8: 11,\n",
       " 9: 12,\n",
       " 10: 13,\n",
       " 11: 14}"
      ]
     },
     "execution_count": 21,
     "metadata": {},
     "output_type": "execute_result"
    }
   ],
   "source": [
    "ge_sp_mapping"
   ]
  },
  {
   "cell_type": "code",
   "execution_count": 22,
   "metadata": {},
   "outputs": [],
   "source": [
    "def aggregate_probabilites(tensor_list):\n",
    "    first_el = tensor_list[0]\n",
    "    if len(first_el.shape) == 4 and first_el.shape[1] > 1:\n",
    "            first_el = torch.sum(first_el, dim=1).unsqueeze(1)\n",
    "\n",
    "    for tensor in y_hat_list[1:]:\n",
    "        if len(tensor.shape) == 4 and tensor.shape[1] > 1:\n",
    "            tensor = torch.sum(tensor, dim=1).unsqueeze(1)\n",
    "        first_el = torch.cat((first_el, tensor), dim=1)\n",
    "    return first_el"
   ]
  },
  {
   "cell_type": "code",
   "execution_count": 23,
   "metadata": {},
   "outputs": [],
   "source": [
    "sp_tensor = aggregate_probabilites(y_hat_list)"
   ]
  },
  {
   "cell_type": "code",
   "execution_count": 24,
   "metadata": {},
   "outputs": [
    {
     "data": {
      "text/plain": [
       "torch.Size([1, 11, 768, 768])"
      ]
     },
     "execution_count": 24,
     "metadata": {},
     "output_type": "execute_result"
    }
   ],
   "source": [
    "sp_tensor.shape"
   ]
  },
  {
   "cell_type": "code",
   "execution_count": 25,
   "metadata": {},
   "outputs": [
    {
     "name": "stdout",
     "output_type": "stream",
     "text": [
      "tensor([[[-37.5506, -37.6991, -37.4220,  ..., -37.4855, -37.4066, -37.3186],\n",
      "         [-37.6034, -37.4572, -37.6428,  ..., -37.3591, -37.8006, -37.7853],\n",
      "         [-37.6374, -37.5842, -37.3989,  ..., -37.5589, -37.4889, -37.6028],\n",
      "         ...,\n",
      "         [-37.4531, -37.7999, -37.4906,  ..., -37.5646, -37.3306, -37.4322],\n",
      "         [-37.4706, -37.5696, -37.5055,  ..., -37.4378, -37.4557, -37.2901],\n",
      "         [-37.6603, -37.5226, -37.3923,  ..., -37.3896, -37.4362, -37.6500]]])\n",
      "None\n"
     ]
    }
   ],
   "source": [
    "print(print(sp_tensor.sum(1)))"
   ]
  },
  {
   "cell_type": "markdown",
   "metadata": {},
   "source": [
    "### Family level"
   ]
  },
  {
   "cell_type": "code",
   "execution_count": 26,
   "metadata": {},
   "outputs": [],
   "source": [
    "conifer_fa = sp_tensor[:, 0, :, :] + sp_tensor[:, 6, :, :] + sp_tensor[:, 7, :, :] + sp_tensor[:, 9, :, :] + sp_tensor[:, 10, :, :]\n",
    "nonconifera_fa = sp_tensor[:, 1, :, :] + sp_tensor[:, 2, :, :] + sp_tensor[:, 3, :, :] + sp_tensor[:, 8, :, :] \n",
    "palm_fa = sp_tensor[:, 4, :, :]\n",
    "dead_fa = sp_tensor[:, 5, :, :]\n",
    "\n",
    "family_tensor_list = [conifer_fa, nonconifera_fa, palm_fa, dead_fa]"
   ]
  },
  {
   "cell_type": "code",
   "execution_count": 27,
   "metadata": {},
   "outputs": [
    {
     "name": "stdout",
     "output_type": "stream",
     "text": [
      "torch.Size([1, 768, 768])\n",
      "torch.Size([1, 768, 768])\n",
      "torch.Size([1, 768, 768])\n",
      "torch.Size([1, 768, 768])\n"
     ]
    }
   ],
   "source": [
    "for i, tensor in enumerate(family_tensor_list):\n",
    "    if len(tensor.shape) == 3:\n",
    "        family_tensor_list[i] = tensor.unsqueeze(1)\n",
    "    print(tensor.shape)"
   ]
  },
  {
   "cell_type": "code",
   "execution_count": 28,
   "metadata": {},
   "outputs": [],
   "source": [
    "# fa_tensor = aggregate_probabilites(family_tensor_list)"
   ]
  },
  {
   "cell_type": "code",
   "execution_count": 29,
   "metadata": {},
   "outputs": [],
   "source": [
    "fa_tensor = torch.cat((family_tensor_list[0], family_tensor_list[1], family_tensor_list[2], family_tensor_list[3]), dim=1)"
   ]
  },
  {
   "cell_type": "code",
   "execution_count": 30,
   "metadata": {},
   "outputs": [
    {
     "data": {
      "text/plain": [
       "torch.Size([1, 4, 768, 768])"
      ]
     },
     "execution_count": 30,
     "metadata": {},
     "output_type": "execute_result"
    }
   ],
   "source": [
    "fa_tensor.shape"
   ]
  },
  {
   "cell_type": "code",
   "execution_count": 35,
   "metadata": {},
   "outputs": [
    {
     "name": "stdout",
     "output_type": "stream",
     "text": [
      "tensor([[[-37.5506, -37.6991, -37.4220,  ..., -37.4855, -37.4066, -37.3186],\n",
      "         [-37.6034, -37.4572, -37.6428,  ..., -37.3590, -37.8006, -37.7853],\n",
      "         [-37.6374, -37.5842, -37.3989,  ..., -37.5589, -37.4889, -37.6028],\n",
      "         ...,\n",
      "         [-37.4531, -37.7999, -37.4906,  ..., -37.5646, -37.3306, -37.4322],\n",
      "         [-37.4706, -37.5696, -37.5055,  ..., -37.4378, -37.4557, -37.2901],\n",
      "         [-37.6603, -37.5226, -37.3923,  ..., -37.3896, -37.4362, -37.6500]]])\n",
      "None\n"
     ]
    }
   ],
   "source": [
    "print(print(fa_tensor.sum(1)))"
   ]
  },
  {
   "cell_type": "markdown",
   "metadata": {},
   "source": [
    "### Test Loss Calculation w/ Log-Softmax+NLL Loss"
   ]
  },
  {
   "cell_type": "markdown",
   "metadata": {},
   "source": [
    "### In implementation for the loss, will need to add the 0th channel (output will have 15 channels)"
   ]
  },
  {
   "cell_type": "code",
   "execution_count": 36,
   "metadata": {},
   "outputs": [],
   "source": [
    "spe_target_tensor = torch.tensor(np.array(Image.open(label_list[1]))).unsqueeze(0)"
   ]
  },
  {
   "cell_type": "code",
   "execution_count": 37,
   "metadata": {},
   "outputs": [],
   "source": [
    "gen_target_tensor = torch.tensor(np.array(sp_img)).unsqueeze(0)\n",
    "fam_target_tensor = torch.tensor(np.array(fam_img)).unsqueeze(0) "
   ]
  },
  {
   "cell_type": "code",
   "execution_count": 38,
   "metadata": {},
   "outputs": [
    {
     "name": "stdout",
     "output_type": "stream",
     "text": [
      "tensor([ 0,  1,  2,  3,  4,  5,  6,  7,  8,  9, 10, 11, 12], dtype=torch.uint8) tensor([0, 1, 2, 3, 4, 5, 6, 7, 9], dtype=torch.uint8) tensor([0, 1, 2, 3, 4], dtype=torch.uint8)\n"
     ]
    }
   ],
   "source": [
    "print(torch.unique(spe_target_tensor), torch.unique(gen_target_tensor), torch.unique(fam_target_tensor))"
   ]
  },
  {
   "cell_type": "code",
   "execution_count": 39,
   "metadata": {},
   "outputs": [],
   "source": [
    "spe_preds = y_hat\n",
    "gen_preds = sp_tensor\n",
    "fam_preds = fa_tensor"
   ]
  },
  {
   "cell_type": "code",
   "execution_count": 40,
   "metadata": {},
   "outputs": [],
   "source": [
    "loss_sp = nn.NLLLoss()\n",
    "loss_ge = nn.NLLLoss()\n",
    "loss_fa = nn.NLLLoss()"
   ]
  },
  {
   "cell_type": "code",
   "execution_count": 41,
   "metadata": {},
   "outputs": [
    {
     "name": "stdout",
     "output_type": "stream",
     "text": [
      "torch.Size([1, 14, 768, 768]) torch.Size([1, 768, 768])\n",
      "torch.Size([1, 11, 768, 768]) torch.Size([1, 768, 768])\n",
      "torch.Size([1, 4, 768, 768]) torch.Size([1, 768, 768])\n"
     ]
    }
   ],
   "source": [
    "print(spe_preds.shape, spe_target_tensor.shape)\n",
    "print(gen_preds.shape, gen_target_tensor.shape)\n",
    "print(fam_preds.shape, fam_target_tensor.shape)"
   ]
  },
  {
   "cell_type": "code",
   "execution_count": 42,
   "metadata": {},
   "outputs": [],
   "source": [
    "output_sp = loss_sp(spe_preds, spe_target_tensor.long())\n",
    "output_ge = loss_ge(gen_preds, gen_target_tensor.long())\n",
    "output_fa = loss_fa(fam_preds, fam_target_tensor.long())"
   ]
  },
  {
   "cell_type": "code",
   "execution_count": 43,
   "metadata": {},
   "outputs": [
    {
     "name": "stdout",
     "output_type": "stream",
     "text": [
      "tensor(3.9690) tensor(3.9690)\n"
     ]
    }
   ],
   "source": [
    "print(output_ge, output_ge)"
   ]
  },
  {
   "cell_type": "markdown",
   "metadata": {},
   "source": [
    "### Generating three level labels"
   ]
  },
  {
   "cell_type": "code",
   "execution_count": 25,
   "metadata": {},
   "outputs": [],
   "source": [
    "train_labels_path = '/home/mila/v/venkatesh.ramesh/scratch/tree_data/dataset_myriam_split_hierarchical/test/labels'\n",
    "save_path_genus = '/home/mila/v/venkatesh.ramesh/scratch/tree_data/dataset_myriam_split_hierarchical/test/labels_genus'\n",
    "save_path_family = '/home/mila/v/venkatesh.ramesh/scratch/tree_data/dataset_myriam_split_hierarchical/test/labels_family'"
   ]
  },
  {
   "cell_type": "code",
   "execution_count": 26,
   "metadata": {},
   "outputs": [],
   "source": [
    "hierarchical_label_list = glob.glob(train_labels_path + '/**/*.png', recursive=True)"
   ]
  },
  {
   "cell_type": "code",
   "execution_count": 27,
   "metadata": {},
   "outputs": [
    {
     "data": {
      "text/plain": [
       "280"
      ]
     },
     "execution_count": 27,
     "metadata": {},
     "output_type": "execute_result"
    }
   ],
   "source": [
    "# print(hierarchical_label_list[0].replace('labels', 'labels_genus'))\n",
    "len(hierarchical_label_list)"
   ]
  },
  {
   "cell_type": "code",
   "execution_count": 28,
   "metadata": {},
   "outputs": [
    {
     "name": "stderr",
     "output_type": "stream",
     "text": [
      "100%|██████████| 280/280 [00:08<00:00, 34.66it/s]\n"
     ]
    }
   ],
   "source": [
    "for item in tqdm(hierarchical_label_list):\n",
    "    sp_img, fam_img = create_level_masks(item)\n",
    "    sp_img.save(item.replace('labels', 'labels_genus'))\n",
    "    fam_img.save(item.replace('labels', 'labels_family'))"
   ]
  },
  {
   "cell_type": "code",
   "execution_count": 81,
   "metadata": {},
   "outputs": [
    {
     "data": {
      "text/plain": [
       "'/home/mila/v/venkatesh.ramesh/scratch/tree_data/dataset_myriam_split_hierarchical/train/labels/zone2/1234948_1492258.png'"
      ]
     },
     "execution_count": 81,
     "metadata": {},
     "output_type": "execute_result"
    }
   ],
   "source": [
    "hierarchical_label_list[100]"
   ]
  },
  {
   "cell_type": "code",
   "execution_count": 82,
   "metadata": {},
   "outputs": [],
   "source": [
    "x1 = Image.open('/home/mila/v/venkatesh.ramesh/scratch/tree_data/dataset_myriam_split_hierarchical/train/labels/zone2/1234948_1492258.png')\n",
    "x2 = Image.open('/home/mila/v/venkatesh.ramesh/scratch/tree_data/dataset_myriam_split_hierarchical/train/labels_genus/zone2/1234948_1492258.png')\n",
    "x3 = Image.open('/home/mila/v/venkatesh.ramesh/scratch/tree_data/dataset_myriam_split_hierarchical/train/labels_family/zone2/1234948_1492258.png')"
   ]
  },
  {
   "cell_type": "code",
   "execution_count": null,
   "metadata": {},
   "outputs": [],
   "source": []
  }
 ],
 "metadata": {
  "kernelspec": {
   "display_name": "ds",
   "language": "python",
   "name": "ds"
  },
  "language_info": {
   "codemirror_mode": {
    "name": "ipython",
    "version": 3
   },
   "file_extension": ".py",
   "mimetype": "text/x-python",
   "name": "python",
   "nbconvert_exporter": "python",
   "pygments_lexer": "ipython3",
   "version": "3.10.8"
  }
 },
 "nbformat": 4,
 "nbformat_minor": 4
}
