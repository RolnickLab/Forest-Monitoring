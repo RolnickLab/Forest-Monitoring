{
 "cells": [
  {
   "cell_type": "code",
   "execution_count": 1,
   "metadata": {},
   "outputs": [],
   "source": [
    "import geopandas as gpd\n",
    "from shapely.geometry import Polygon\n",
    "from shapely.ops import transform\n",
    "from shapely.ops import unary_union\n",
    "from rasterio.transform import from_bounds\n",
    "import rasterio\n",
    "from rasterio import mask\n",
    "\n",
    "# Utils\n",
    "import json\n",
    "import os\n",
    "import numpy as np\n",
    "from tqdm import tqdm\n",
    "import glob"
   ]
  },
  {
   "cell_type": "markdown",
   "metadata": {},
   "source": [
    "## Read images and corresponding class_dict"
   ]
  },
  {
   "cell_type": "markdown",
   "metadata": {},
   "source": [
    "### Zone 3"
   ]
  },
  {
   "cell_type": "code",
   "execution_count": 2,
   "metadata": {},
   "outputs": [],
   "source": [
    "image_path = '/home/mila/v/venkatesh.ramesh/scratch/tree_data/tiles_hierarchical/labels/z3/22'\n",
    "images_list = glob.glob(image_path + '/**/*.png', recursive=True)"
   ]
  },
  {
   "cell_type": "code",
   "execution_count": 3,
   "metadata": {},
   "outputs": [
    {
     "data": {
      "text/plain": [
       "2808"
      ]
     },
     "execution_count": 3,
     "metadata": {},
     "output_type": "execute_result"
    }
   ],
   "source": [
    "len(images_list)"
   ]
  },
  {
   "cell_type": "code",
   "execution_count": 4,
   "metadata": {},
   "outputs": [],
   "source": [
    "zone3_dict = {\"ABBA\": 1, \"ACPE\": 2, \"ACRU\": 3, \"ACSA\": 4, \"Acer\": 5, \"BEAL\": 6, \"BEPA\": 7, \"Conifere\": 8, \"FAGR\": 9, \"Feuillus\": 10, \"LALA\": 11, \"Mort\": 12, \"PIGL\": 13, \"PIMA\": 14, \"PIRU\": 15, \"PIST\": 16, \"POGR\": 17, \"POTR\": 18, \"Picea\": 19, \"Populus\": 20, \"THOC\": 21, \"TSCA\": 22}"
   ]
  },
  {
   "cell_type": "code",
   "execution_count": 5,
   "metadata": {},
   "outputs": [
    {
     "data": {
      "text/plain": [
       "{'ABBA': 1,\n",
       " 'ACPE': 2,\n",
       " 'ACRU': 3,\n",
       " 'ACSA': 4,\n",
       " 'Acer': 5,\n",
       " 'BEAL': 6,\n",
       " 'BEPA': 7,\n",
       " 'Conifere': 8,\n",
       " 'FAGR': 9,\n",
       " 'Feuillus': 10,\n",
       " 'LALA': 11,\n",
       " 'Mort': 12,\n",
       " 'PIGL': 13,\n",
       " 'PIMA': 14,\n",
       " 'PIRU': 15,\n",
       " 'PIST': 16,\n",
       " 'POGR': 17,\n",
       " 'POTR': 18,\n",
       " 'Picea': 19,\n",
       " 'Populus': 20,\n",
       " 'THOC': 21,\n",
       " 'TSCA': 22}"
      ]
     },
     "execution_count": 5,
     "metadata": {},
     "output_type": "execute_result"
    }
   ],
   "source": [
    "zone3_dict"
   ]
  },
  {
   "cell_type": "code",
   "execution_count": 6,
   "metadata": {},
   "outputs": [],
   "source": [
    "zone_3_keep = {'ABBA': 1,\n",
    " 'ACPE': 2,\n",
    " 'ACRU': 3,\n",
    " 'ACSA': 4,\n",
    " 'Acer' : 5,\n",
    " 'BEAL': 6,\n",
    " 'BEPA': 7,\n",
    " 'FAGR': 9,\n",
    " 'LALA': 11,\n",
    " 'Mort': 12,\n",
    " 'PIGL': 13,\n",
    " 'PIMA': 14,\n",
    " 'PIRU': 15,\n",
    " 'PIST': 16,\n",
    " 'POGR': 17,\n",
    " 'POTR': 18,\n",
    " 'Picea': 19,\n",
    " 'Populus': 20,\n",
    " 'THOC': 21,\n",
    " 'TSCA': 22}"
   ]
  },
  {
   "cell_type": "code",
   "execution_count": 7,
   "metadata": {},
   "outputs": [],
   "source": [
    "max_val = max(zone_3_keep.values())\n",
    "\n",
    "difference_dict = { k : zone3_dict[k] for k in set(zone3_dict) - set(zone_3_keep) }\n",
    "\n",
    "diff_list = difference_dict.values()"
   ]
  },
  {
   "cell_type": "code",
   "execution_count": 8,
   "metadata": {},
   "outputs": [
    {
     "data": {
      "text/plain": [
       "dict_values([10, 8])"
      ]
     },
     "execution_count": 8,
     "metadata": {},
     "output_type": "execute_result"
    }
   ],
   "source": [
    "diff_list"
   ]
  },
  {
   "cell_type": "markdown",
   "metadata": {},
   "source": [
    "#### Remove Labels"
   ]
  },
  {
   "cell_type": "code",
   "execution_count": 9,
   "metadata": {},
   "outputs": [
    {
     "name": "stderr",
     "output_type": "stream",
     "text": [
      "100%|██████████| 2808/2808 [00:18<00:00, 151.80it/s]\n"
     ]
    }
   ],
   "source": [
    "from PIL import Image\n",
    "\n",
    "for img in tqdm(images_list):\n",
    "    temp = np.array(Image.open(img))\n",
    "    \n",
    "    for id in diff_list:\n",
    "        temp[temp == id] = 0\n",
    "    \n",
    "    temp[temp > max_val] = 0  \n",
    "    temp[temp < 0] = 0\n",
    "        \n",
    "    temp = Image.fromarray(temp)\n",
    "    temp.save(img)"
   ]
  },
  {
   "cell_type": "markdown",
   "metadata": {},
   "source": [
    "#### Make labels ordering sequential"
   ]
  },
  {
   "cell_type": "code",
   "execution_count": 10,
   "metadata": {},
   "outputs": [],
   "source": [
    "# Merge PIGL, PIMA, PIRU and Picea into Picea\n",
    "# Merge POGR, POTR and Populus into Populus\n",
    "# Add Acer sp (Has too many trees to ignore)"
   ]
  },
  {
   "cell_type": "code",
   "execution_count": 11,
   "metadata": {},
   "outputs": [],
   "source": [
    "# zone_3_keep = {'ABBA': 1,\n",
    "#  'ACPE': 2,\n",
    "#  'ACRU': 3,\n",
    "#  'ACSA': 4,\n",
    "#  'Acer' : 5,\n",
    "#  'BEAL': 6,\n",
    "#  'BEPA': 7,\n",
    "#  'FAGR': 9,\n",
    "#  'LALA': 11,\n",
    "#  'Mort': 12,\n",
    "#  'PIGL': 13,\n",
    "#  'PIMA': 14,\n",
    "#  'PIRU': 15,\n",
    "#  'PIST': 16,\n",
    "#  'POGR': 17,\n",
    "#  'POTR': 18,\n",
    "#  'Picea': 19,\n",
    "#  'Populus': 20,\n",
    "#  'THOC': 21,\n",
    "#  'TSCA': 22}\n",
    "\n",
    "# zones_dicts_final = {'ABBA': 1,\n",
    "#  'ACPE': 2,\n",
    "#  'ACRU': 3,\n",
    "#  'ACSA': 4,\n",
    "#  'Acer' : 5,\n",
    "#  'BEAL': 6,\n",
    "#  'BEPA': 7,\n",
    "#  'FAGR': 8,\n",
    "#  'LALA': 9,\n",
    "#  'Mort': 10,\n",
    "#  'PIGL': 11,\n",
    "#  'PIMA': 11,\n",
    "#  'PIRU': 11,\n",
    "#  'PIST': 12,\n",
    "#  'POGR': 13,\n",
    "#  'POTR': 13,\n",
    "#  'Picea': 11,\n",
    "#  'Populus': 13,\n",
    "#  'THOC': 14,\n",
    "#  'TSCA': 15}\n",
    "\n",
    "# change_list = {6:5, 7:6, 8:7, 11:8, 12:9, 16:10, 19:11, 20:12, 21:13, 22:14}\n",
    "change_list = {9:8, 11:9, 12:10, 13:11, 14:11, 15:11, 16:12, 17:13, 18:13, 19:11, 20:13, 21:14, 22:15}\n",
    "x = change_list.keys()"
   ]
  },
  {
   "cell_type": "code",
   "execution_count": 12,
   "metadata": {},
   "outputs": [
    {
     "name": "stderr",
     "output_type": "stream",
     "text": [
      "100%|██████████| 2808/2808 [00:17<00:00, 159.12it/s]\n"
     ]
    }
   ],
   "source": [
    "from PIL import Image\n",
    "\n",
    "for img in tqdm(images_list):\n",
    "    temp = np.array(Image.open(img))\n",
    "    \n",
    "    for id in x:\n",
    "        temp[temp == id] = change_list[id]\n",
    "            \n",
    "    temp = Image.fromarray(temp)\n",
    "    temp.save(img)"
   ]
  },
  {
   "cell_type": "markdown",
   "metadata": {},
   "source": [
    "### Zone 2"
   ]
  },
  {
   "cell_type": "code",
   "execution_count": 13,
   "metadata": {},
   "outputs": [],
   "source": [
    "image_path = '/home/mila/v/venkatesh.ramesh/scratch/tree_data/tiles_hierarchical/labels/z2/22'\n",
    "images_list = glob.glob(image_path + '/**/*.png', recursive=True)"
   ]
  },
  {
   "cell_type": "code",
   "execution_count": 14,
   "metadata": {},
   "outputs": [
    {
     "data": {
      "text/plain": [
       "5428"
      ]
     },
     "execution_count": 14,
     "metadata": {},
     "output_type": "execute_result"
    }
   ],
   "source": [
    "len(images_list)"
   ]
  },
  {
   "cell_type": "code",
   "execution_count": 15,
   "metadata": {},
   "outputs": [],
   "source": [
    "zone2_dict = {\"ABBA\": 1, \"ACPE\": 2, \"ACRU\": 3, \"ACSA\": 4, \"Acer\": 5, \"Autres\": 6, \"BEAL\": 7, \"BEPA\": 8, \"BEPO\": 9, \"FAGR\": 10, \"FRNI\": 11, \"Feuillus\": 12, \"Mort\": 13, \"OSVI\": 14, \"PIGL\": 15, \"PIMA\": 16, \"PIRU\": 17, \"PIST\": 18, \"POGR\": 19, \"POTR\": 20, \"Picea\": 21, \"QURU\": 22, \"THOC\": 23, \"TSCA\": 24}"
   ]
  },
  {
   "cell_type": "code",
   "execution_count": 16,
   "metadata": {},
   "outputs": [
    {
     "data": {
      "text/plain": [
       "{'ABBA': 1,\n",
       " 'ACPE': 2,\n",
       " 'ACRU': 3,\n",
       " 'ACSA': 4,\n",
       " 'Acer': 5,\n",
       " 'Autres': 6,\n",
       " 'BEAL': 7,\n",
       " 'BEPA': 8,\n",
       " 'BEPO': 9,\n",
       " 'FAGR': 10,\n",
       " 'FRNI': 11,\n",
       " 'Feuillus': 12,\n",
       " 'Mort': 13,\n",
       " 'OSVI': 14,\n",
       " 'PIGL': 15,\n",
       " 'PIMA': 16,\n",
       " 'PIRU': 17,\n",
       " 'PIST': 18,\n",
       " 'POGR': 19,\n",
       " 'POTR': 20,\n",
       " 'Picea': 21,\n",
       " 'QURU': 22,\n",
       " 'THOC': 23,\n",
       " 'TSCA': 24}"
      ]
     },
     "execution_count": 16,
     "metadata": {},
     "output_type": "execute_result"
    }
   ],
   "source": [
    "zone2_dict"
   ]
  },
  {
   "cell_type": "code",
   "execution_count": 17,
   "metadata": {},
   "outputs": [],
   "source": [
    "zone_2_keep = {'ABBA': 1,\n",
    " 'ACPE': 2,\n",
    " 'ACRU': 3,\n",
    " 'ACSA': 4,\n",
    " 'Acer': 5,\n",
    " 'BEAL': 7,\n",
    " 'BEPA': 8,\n",
    " 'FAGR': 10,\n",
    " 'Mort': 13,\n",
    " 'PIGL': 15,\n",
    " 'PIMA': 16,\n",
    " 'PIRU': 17,\n",
    " 'PIST': 18,\n",
    " 'POGR': 19,\n",
    " 'POTR': 20,\n",
    " 'Picea': 21,\n",
    " 'THOC': 23,\n",
    " 'TSCA': 24}"
   ]
  },
  {
   "cell_type": "code",
   "execution_count": 18,
   "metadata": {},
   "outputs": [],
   "source": [
    "max_val = max(zone_2_keep.values())\n",
    "\n",
    "difference_dict = { k : zone2_dict[k] for k in set(zone2_dict) - set(zone_2_keep) }\n",
    "\n",
    "diff_list = difference_dict.values()"
   ]
  },
  {
   "cell_type": "code",
   "execution_count": 19,
   "metadata": {},
   "outputs": [
    {
     "data": {
      "text/plain": [
       "dict_values([12, 22, 9, 11, 14, 6])"
      ]
     },
     "execution_count": 19,
     "metadata": {},
     "output_type": "execute_result"
    }
   ],
   "source": [
    "diff_list"
   ]
  },
  {
   "cell_type": "markdown",
   "metadata": {},
   "source": [
    "#### Remove Labels"
   ]
  },
  {
   "cell_type": "code",
   "execution_count": 20,
   "metadata": {},
   "outputs": [
    {
     "name": "stderr",
     "output_type": "stream",
     "text": [
      "100%|██████████| 5428/5428 [00:39<00:00, 136.57it/s]\n"
     ]
    }
   ],
   "source": [
    "from PIL import Image\n",
    "\n",
    "for img in tqdm(images_list):\n",
    "    temp = np.array(Image.open(img))\n",
    "    \n",
    "    for id in diff_list:\n",
    "        temp[temp == id] = 0\n",
    "    \n",
    "    temp[temp > max_val] = 0  \n",
    "    temp[temp < 0] = 0\n",
    "        \n",
    "    temp = Image.fromarray(temp)\n",
    "    temp.save(img)"
   ]
  },
  {
   "cell_type": "code",
   "execution_count": 21,
   "metadata": {},
   "outputs": [],
   "source": [
    "# zone_2_keep = {'ABBA': 1,\n",
    "#  'ACPE': 2,\n",
    "#  'ACRU': 3,\n",
    "#  'ACSA': 4,\n",
    "#  'Acer': 5,\n",
    "#  'BEAL': 7,\n",
    "#  'BEPA': 8,\n",
    "#  'FAGR': 10,\n",
    "#  'Mort': 13,\n",
    "#  'PIGL': 15,\n",
    "#  'PIMA': 16,\n",
    "#  'PIRU': 17,\n",
    "#  'PIST': 18,\n",
    "#  'POGR': 19,\n",
    "#  'POTR': 20,\n",
    "#  'Picea': 21,\n",
    "#  'THOC': 23,\n",
    "#  'TSCA': 24}\n",
    "\n",
    "# zones_dicts_final = {'ABBA': 1,\n",
    "#  'ACPE': 2,\n",
    "#  'ACRU': 3,\n",
    "#  'ACSA': 4,\n",
    "#  'Acer' : 5,\n",
    "#  'BEAL': 6,\n",
    "#  'BEPA': 7,\n",
    "#  'FAGR': 8,\n",
    "#  'LALA': 9,\n",
    "#  'Mort': 10,\n",
    "#  'PIGL': 11,\n",
    "#  'PIMA': 11,\n",
    "#  'PIRU': 11,\n",
    "#  'PIST': 12,\n",
    "#  'POGR': 13,\n",
    "#  'POTR': 13,\n",
    "#  'Picea': 11,\n",
    "#  'Populus': 13,\n",
    "#  'THOC': 14,\n",
    "#  'TSCA': 15}\n",
    "\n",
    "change_list = {7:6, 8:7, 10:8, 13:10, 15:11, 16:11, 17:11, 18:12, 19:13, 20:13, 21:11, 23:14, 24: 15}\n",
    "x = change_list.keys()"
   ]
  },
  {
   "cell_type": "code",
   "execution_count": 22,
   "metadata": {},
   "outputs": [
    {
     "name": "stderr",
     "output_type": "stream",
     "text": [
      "100%|██████████| 5428/5428 [00:34<00:00, 158.56it/s]\n"
     ]
    }
   ],
   "source": [
    "from PIL import Image\n",
    "\n",
    "for img in tqdm(images_list):\n",
    "    temp = np.array(Image.open(img))\n",
    "    \n",
    "    for id in x:\n",
    "        temp[temp == id] = change_list[id]\n",
    "            \n",
    "    temp = Image.fromarray(temp)\n",
    "    temp.save(img)"
   ]
  },
  {
   "cell_type": "code",
   "execution_count": 23,
   "metadata": {},
   "outputs": [],
   "source": [
    "# image_path = '/home/mila/v/venkatesh.ramesh/scratch/tree_data/tiles_hierarchical/labels/z2/22/'\n",
    "# test_list = glob.glob(image_path + '/**/*.png', recursive=True)\n",
    "\n",
    "# for img in test_list:\n",
    "#     x = Image.open(img)\n",
    "#     print(np.unique(x))"
   ]
  },
  {
   "cell_type": "markdown",
   "metadata": {},
   "source": [
    "### Zone1"
   ]
  },
  {
   "cell_type": "code",
   "execution_count": 24,
   "metadata": {},
   "outputs": [],
   "source": [
    "image_path = '/home/mila/v/venkatesh.ramesh/scratch/tree_data/tiles_hierarchical/labels/z1/22'\n",
    "images_list = glob.glob(image_path + '/**/*.png', recursive=True)"
   ]
  },
  {
   "cell_type": "code",
   "execution_count": 25,
   "metadata": {},
   "outputs": [
    {
     "data": {
      "text/plain": [
       "8372"
      ]
     },
     "execution_count": 25,
     "metadata": {},
     "output_type": "execute_result"
    }
   ],
   "source": [
    "len(images_list)"
   ]
  },
  {
   "cell_type": "code",
   "execution_count": 26,
   "metadata": {},
   "outputs": [],
   "source": [
    "zone1_dict = {\"ABBA\": 1, \"ACPE\": 2, \"ACRU\": 3, \"ACSA\": 4, \"Acer\": 5, \"BEAL\": 6, \"BEPA\": 7, \"BEPO\": 8, \"Betula\": 9, \"Conifere\": 10, \"FAGR\": 11, \"FRNI\": 12, \"Feuillus\": 13, \"LALA\": 14, \"Mort\": 15, \"PIGL\": 16, \"PIMA\": 17, \"PIRU\": 18, \"PIST\": 19, \"POBA\": 20, \"POGR\": 21, \"POTR\": 22, \"PRPE\": 23, \"Picea\": 24, \"Populus\": 25, \"QURU\": 26, \"THOC\": 27, \"TSCA\": 28}"
   ]
  },
  {
   "cell_type": "code",
   "execution_count": 27,
   "metadata": {},
   "outputs": [
    {
     "data": {
      "text/plain": [
       "{'ABBA': 1,\n",
       " 'ACPE': 2,\n",
       " 'ACRU': 3,\n",
       " 'ACSA': 4,\n",
       " 'Acer': 5,\n",
       " 'BEAL': 6,\n",
       " 'BEPA': 7,\n",
       " 'BEPO': 8,\n",
       " 'Betula': 9,\n",
       " 'Conifere': 10,\n",
       " 'FAGR': 11,\n",
       " 'FRNI': 12,\n",
       " 'Feuillus': 13,\n",
       " 'LALA': 14,\n",
       " 'Mort': 15,\n",
       " 'PIGL': 16,\n",
       " 'PIMA': 17,\n",
       " 'PIRU': 18,\n",
       " 'PIST': 19,\n",
       " 'POBA': 20,\n",
       " 'POGR': 21,\n",
       " 'POTR': 22,\n",
       " 'PRPE': 23,\n",
       " 'Picea': 24,\n",
       " 'Populus': 25,\n",
       " 'QURU': 26,\n",
       " 'THOC': 27,\n",
       " 'TSCA': 28}"
      ]
     },
     "execution_count": 27,
     "metadata": {},
     "output_type": "execute_result"
    }
   ],
   "source": [
    "zone1_dict"
   ]
  },
  {
   "cell_type": "code",
   "execution_count": 28,
   "metadata": {},
   "outputs": [],
   "source": [
    "zone_1_keep = {'ABBA': 1,\n",
    " 'ACPE': 2,\n",
    " 'ACRU': 3,\n",
    " 'ACSA': 4,\n",
    " 'Acer': 5,\n",
    " 'BEAL': 6,\n",
    " 'BEPA': 7,\n",
    " 'FAGR': 11,\n",
    " 'LALA': 14,\n",
    " 'Mort': 15,\n",
    " 'PIGL': 16,\n",
    " 'PIMA': 17,\n",
    " 'PIRU': 18,\n",
    " 'PIST': 19,\n",
    " 'POGR': 21,\n",
    " 'POTR': 22,\n",
    " 'Picea': 24,\n",
    " 'Populus': 25,\n",
    " 'THOC': 27,\n",
    " 'TSCA': 28}\n",
    "\n",
    "# zones_dicts_final = {'ABBA': 1,\n",
    "#  'ACPE': 2,\n",
    "#  'ACRU': 3,\n",
    "#  'ACSA': 4,\n",
    "#  'Acer' : 5,\n",
    "#  'BEAL': 6,\n",
    "#  'BEPA': 7,\n",
    "#  'FAGR': 8,\n",
    "#  'LALA': 9,\n",
    "#  'Mort': 10,\n",
    "#  'PIGL': 11,\n",
    "#  'PIMA': 11,\n",
    "#  'PIRU': 11,\n",
    "#  'PIST': 12,\n",
    "#  'POGR': 13,\n",
    "#  'POTR': 13,\n",
    "#  'Picea': 11,\n",
    "#  'Populus': 13,\n",
    "#  'THOC': 14,\n",
    "#  'TSCA': 15}"
   ]
  },
  {
   "cell_type": "code",
   "execution_count": 29,
   "metadata": {},
   "outputs": [],
   "source": [
    "max_val = max(zone_1_keep.values())\n",
    "\n",
    "difference_dict = { k : zone1_dict[k] for k in set(zone1_dict) - set(zone_1_keep) }\n",
    "\n",
    "diff_list = difference_dict.values()"
   ]
  },
  {
   "cell_type": "code",
   "execution_count": 30,
   "metadata": {},
   "outputs": [
    {
     "data": {
      "text/plain": [
       "dict_values([10, 20, 13, 23, 26, 8, 12, 9])"
      ]
     },
     "execution_count": 30,
     "metadata": {},
     "output_type": "execute_result"
    }
   ],
   "source": [
    "diff_list"
   ]
  },
  {
   "cell_type": "markdown",
   "metadata": {},
   "source": [
    "#### Remove Labels"
   ]
  },
  {
   "cell_type": "code",
   "execution_count": 31,
   "metadata": {},
   "outputs": [
    {
     "name": "stderr",
     "output_type": "stream",
     "text": [
      "100%|██████████| 8372/8372 [00:58<00:00, 144.34it/s]\n"
     ]
    }
   ],
   "source": [
    "from PIL import Image\n",
    "\n",
    "for img in tqdm(images_list):\n",
    "    temp = np.array(Image.open(img))\n",
    "    \n",
    "    for id in diff_list:\n",
    "        temp[temp == id] = 0\n",
    "    \n",
    "    temp[temp > max_val] = 0  \n",
    "    temp[temp < 0] = 0\n",
    "        \n",
    "    temp = Image.fromarray(temp)\n",
    "    temp.save(img)"
   ]
  },
  {
   "cell_type": "code",
   "execution_count": 32,
   "metadata": {},
   "outputs": [],
   "source": [
    "# zone_1_keep = {'ABBA': 1,\n",
    "#  'ACPE': 2,\n",
    "#  'ACRU': 3,\n",
    "#  'ACSA': 4,\n",
    "#  'Acer': 5,\n",
    "#  'BEAL': 6,\n",
    "#  'BEPA': 7,\n",
    "#  'FAGR': 11,\n",
    "#  'LALA': 14,\n",
    "#  'Mort': 15,\n",
    "#  'PIGL': 16,\n",
    "#  'PIMA': 17,\n",
    "#  'PIRU': 18,\n",
    "#  'PIST': 19,\n",
    "#  'POGR': 21,\n",
    "#  'POTR': 22,\n",
    "#  'Picea': 24,\n",
    "#  'Populus': 25,\n",
    "#  'THOC': 27,\n",
    "#  'TSCA': 28}\n",
    "\n",
    "# zones_dicts_final = {'ABBA': 1,\n",
    "#  'ACPE': 2,\n",
    "#  'ACRU': 3,\n",
    "#  'ACSA': 4,\n",
    "#  'Acer' : 5,\n",
    "#  'BEAL': 6,\n",
    "#  'BEPA': 7,\n",
    "#  'FAGR': 8,\n",
    "#  'LALA': 9,\n",
    "#  'Mort': 10,\n",
    "#  'PIGL': 11,\n",
    "#  'PIMA': 11,\n",
    "#  'PIRU': 11,\n",
    "#  'PIST': 12,\n",
    "#  'POGR': 13,\n",
    "#  'POTR': 13,\n",
    "#  'Picea': 11,\n",
    "#  'Populus': 13,\n",
    "#  'THOC': 14,\n",
    "#  'TSCA': 15}\n",
    "\n",
    "change_list = {11:8, 14:9, 15:10, 16:11, 17:11, 18:11, 19:12, 21:13, 22:13, 24:11, 25:13, 27:14, 28:15}\n",
    "x = change_list.keys()"
   ]
  },
  {
   "cell_type": "code",
   "execution_count": 33,
   "metadata": {},
   "outputs": [
    {
     "name": "stderr",
     "output_type": "stream",
     "text": [
      "100%|██████████| 8372/8372 [00:51<00:00, 163.74it/s]\n"
     ]
    }
   ],
   "source": [
    "from PIL import Image\n",
    "\n",
    "for img in tqdm(images_list):\n",
    "    temp = np.array(Image.open(img))\n",
    "    \n",
    "    for id in x:\n",
    "        temp[temp == id] = change_list[id]\n",
    "            \n",
    "    temp = Image.fromarray(temp)\n",
    "    temp.save(img)"
   ]
  },
  {
   "cell_type": "code",
   "execution_count": null,
   "metadata": {},
   "outputs": [],
   "source": [
    "image_path = '/home/mila/v/venkatesh.ramesh/scratch/tree_data/tiles_hierarchical/labels/z1/22/'\n",
    "test_list = glob.glob(image_path + '/**/*.png', recursive=True)\n",
    "\n",
    "for img in test_list:\n",
    "    x = Image.open(img)\n",
    "    print(np.unique(x))"
   ]
  },
  {
   "cell_type": "markdown",
   "metadata": {},
   "source": [
    "### Removing classes and ignore index"
   ]
  },
  {
   "cell_type": "code",
   "execution_count": null,
   "metadata": {},
   "outputs": [],
   "source": []
  },
  {
   "cell_type": "markdown",
   "metadata": {},
   "source": [
    "remove_classes = QURU, PRPE, POBA, BEPO\n",
    "\n",
    "ignore_index = Autres, Betula \n",
    "\n",
    "coarser_labels = Acer, Betula, Conifere, Feuillus\n",
    "\n",
    "ignore_index = Autres, Betula, QURU, PRPE, POBA, BEPO\n",
    "\n",
    "\n",
    "ignore_index_maybe = Acer, Conifere, Feuillus (They have high frequency of appearence so maybe iteration 2)\n",
    "\n",
    "\n",
    "TSCA has least annotation but it is used."
   ]
  },
  {
   "cell_type": "markdown",
   "metadata": {},
   "source": [
    "**Iteration 1:**\n",
    "\n",
    "1. remove_classes = QURU, PRPE, POBA, BEPO, Betula, Autres, OSVI (very low frequency classes)\n",
    "\n",
    "**Iteration 2:**\n",
    "\n",
    "1. remove_classes = QURU, PRPE, POBA, BEPO, Betula, Autres, OSVI (very low frequency classes)\n",
    "2. ignore_index = Acer, Conifere, Feuillus"
   ]
  },
  {
   "cell_type": "code",
   "execution_count": 2,
   "metadata": {},
   "outputs": [],
   "source": [
    "class_dict = {\"ABBA\": 1, \"ACPE\": 2, \"ACRU\": 3, \"ACSA\": 4, \"Acer\": 5, \"BEAL\": 6, \"BEPA\": 7, \"BEPO\": 8, \"Betula\": 9, \"Conifere\": 10, \"FAGR\": 11, \"FRNI\": 12, \"Feuillus\": 13, \"LALA\": 14, \"Mort\": 15, \"PIGL\": 16, \"PIMA\": 17, \"PIRU\": 18, \"PIST\": 19, \"POBA\": 20, \"POGR\": 21, \"POTR\": 22, \"PRPE\": 23, \"Picea\": 24, \"Populus\": 25, \"QURU\": 26, \"THOC\": 27, \"TSCA\": 28, \"Autres\": 29, \"OSVI\": 30}"
   ]
  },
  {
   "cell_type": "code",
   "execution_count": 2,
   "metadata": {},
   "outputs": [],
   "source": [
    "image_path = '/home/mila/v/venkatesh.ramesh/scratch/tree_data/dataset_myriam_split/train/labels_removed_classes_2/'\n",
    "images_list = glob.glob(image_path + '/**/*.png', recursive=True)"
   ]
  },
  {
   "cell_type": "code",
   "execution_count": 3,
   "metadata": {},
   "outputs": [
    {
     "data": {
      "text/plain": [
       "1076"
      ]
     },
     "execution_count": 3,
     "metadata": {},
     "output_type": "execute_result"
    }
   ],
   "source": [
    "len(images_list)"
   ]
  },
  {
   "cell_type": "markdown",
   "metadata": {},
   "source": [
    "### Check max"
   ]
  },
  {
   "cell_type": "code",
   "execution_count": 16,
   "metadata": {},
   "outputs": [
    {
     "name": "stderr",
     "output_type": "stream",
     "text": [
      "100%|██████████| 280/280 [00:00<00:00, 310.32it/s]\n"
     ]
    }
   ],
   "source": [
    "from PIL import Image\n",
    "\n",
    "for img in tqdm(images_list):\n",
    "    temp = np.array(Image.open(img))\n",
    "    min = np.min(temp)\n",
    "    max = np.max(temp)\n",
    "    \n",
    "    if min < 0 or max > 23:\n",
    "#         print(img)\n",
    "#         print(min, max)\n",
    "#         print('HI')\n",
    "        temp[temp > 23] = 0\n",
    "        temp = Image.fromarray(temp)\n",
    "        temp.save(img)\n",
    "    \n",
    "#     for id in remove_labels:\n",
    "#         temp[temp == id] = 0\n",
    "        \n",
    "    temp = Image.fromarray(temp)\n",
    "    temp.save(img)"
   ]
  },
  {
   "cell_type": "code",
   "execution_count": null,
   "metadata": {},
   "outputs": [],
   "source": [
    "test = Image.open('/home/mila/v/venkatesh.ramesh/scratch/tree_data/dataset_myriam_split/train/labels_removed_classes_1/zone1/1234940_1492354.png')"
   ]
  },
  {
   "cell_type": "code",
   "execution_count": 10,
   "metadata": {},
   "outputs": [],
   "source": [
    "unq = np.unique(np.array(test))"
   ]
  },
  {
   "cell_type": "code",
   "execution_count": 11,
   "metadata": {},
   "outputs": [
    {
     "name": "stdout",
     "output_type": "stream",
     "text": [
      "[ 0  1  2  3  4  5  6  7  8  9 10 11 12 13 14 15 16 17 18 19 20 23 31]\n"
     ]
    }
   ],
   "source": [
    "print(unq)"
   ]
  },
  {
   "cell_type": "markdown",
   "metadata": {},
   "source": [
    "### Make labels ordering sequential"
   ]
  },
  {
   "cell_type": "code",
   "execution_count": 7,
   "metadata": {},
   "outputs": [
    {
     "name": "stderr",
     "output_type": "stream",
     "text": [
      "100%|██████████| 1076/1076 [00:16<00:00, 64.61it/s]\n"
     ]
    }
   ],
   "source": [
    "from PIL import Image\n",
    "\n",
    "for img in tqdm(images_list):\n",
    "    temp = np.array(Image.open(img))\n",
    "    \n",
    "    for id in remove_labels:\n",
    "        temp[temp == id] = 0\n",
    "    \n",
    "    temp = Image.fromarray(temp)\n",
    "    temp.save(img)"
   ]
  },
  {
   "cell_type": "code",
   "execution_count": 8,
   "metadata": {},
   "outputs": [],
   "source": [
    "new_dict = myriam_dict\n",
    "\n",
    "for key in remove_list:\n",
    "    del new_dict[key]"
   ]
  },
  {
   "cell_type": "code",
   "execution_count": 9,
   "metadata": {},
   "outputs": [],
   "source": [
    "with open('/home/mila/v/venkatesh.ramesh/scratch/tree_data/classes_onlymyriam.json', 'w') as fp:\n",
    "        json.dump(new_dict, fp)"
   ]
  },
  {
   "cell_type": "code",
   "execution_count": 10,
   "metadata": {},
   "outputs": [
    {
     "data": {
      "text/plain": [
       "14"
      ]
     },
     "execution_count": 10,
     "metadata": {},
     "output_type": "execute_result"
    }
   ],
   "source": [
    "len(new_dict)"
   ]
  },
  {
   "cell_type": "code",
   "execution_count": 11,
   "metadata": {},
   "outputs": [],
   "source": [
    "with open('/home/mila/v/venkatesh.ramesh/scratch/tree_data/classes_onlymyriam.json', 'r') as fp:\n",
    "        new_dict = json.load(fp)"
   ]
  },
  {
   "cell_type": "code",
   "execution_count": 12,
   "metadata": {},
   "outputs": [
    {
     "data": {
      "text/plain": [
       "{'ABBA': 1,\n",
       " 'ACPE': 2,\n",
       " 'ACRU': 3,\n",
       " 'ACSA': 4,\n",
       " 'BEAL': 6,\n",
       " 'BEPA': 7,\n",
       " 'FAGR': 8,\n",
       " 'LALA': 10,\n",
       " 'Mort': 11,\n",
       " 'PIST': 13,\n",
       " 'Picea': 15,\n",
       " 'Populus': 16,\n",
       " 'THOC': 17,\n",
       " 'TSCA': 18}"
      ]
     },
     "execution_count": 12,
     "metadata": {},
     "output_type": "execute_result"
    }
   ],
   "source": [
    "new_dict"
   ]
  },
  {
   "cell_type": "code",
   "execution_count": 18,
   "metadata": {},
   "outputs": [],
   "source": [
    "changed_dict = {'ABBA': 1,\n",
    " 'ACPE': 2,\n",
    " 'ACRU': 3,\n",
    " 'ACSA': 4,\n",
    " 'Acer': 5,\n",
    " 'BEAL': 6,\n",
    " 'BEPA': 7,\n",
    " 'Conifere': 8,\n",
    " 'FAGR': 9,\n",
    " 'FRNI': 10,\n",
    " 'Feuillus': 11,\n",
    " 'LALA': 12,\n",
    " 'Mort': 13,\n",
    " 'PIGL': 14,\n",
    " 'PIMA': 15,\n",
    " 'PIRU': 16,\n",
    " 'PIST': 17,\n",
    " 'POGR': 18,\n",
    " 'POTR': 19,\n",
    " 'Picea': 20,\n",
    " 'Populus': 21,\n",
    " 'THOC': 22,\n",
    " 'TSCA': 23}"
   ]
  },
  {
   "cell_type": "code",
   "execution_count": 13,
   "metadata": {},
   "outputs": [],
   "source": [
    "# myriam_dict =  {'ABBA': 1,\n",
    "#  'ACPE': 2,\n",
    "#  'ACRU': 3,\n",
    "#  'ACSA': 4,\n",
    "#  'Acer': 5, #Ignore this\n",
    "#  'BEAL': 6,\n",
    "#  'BEPA': 7,\n",
    "#  'FAGR': 8,\n",
    "#  'Feuillus': 9, # Ignore this\n",
    "#  'LALA': 10,\n",
    "#  'Mort': 11,\n",
    "#  'PIMA': 12, # Ignore this\n",
    "#  'PIST': 13,\n",
    "#  'POGR': 14, # Ignore this\n",
    "#  'Picea': 15,\n",
    "#  'Populus': 16,\n",
    "#  'THOC': 17,\n",
    "#  'TSCA': 18 }\n",
    "# #  'Conifere': 19, Ignore index\n",
    "# #  'FRNI': 20, Ignore index\n",
    "# #  'PIGL': 21, Ignore index\n",
    "# #  'PIRU': 16,\n",
    "# #  'POTR': 19, # Ignore index\n",
    " \n",
    " "
   ]
  },
  {
   "cell_type": "code",
   "execution_count": 17,
   "metadata": {},
   "outputs": [],
   "source": [
    "with open('/home/mila/v/venkatesh.ramesh/scratch/tree_data/classes_myriam_modified.json', 'w') as fp:\n",
    "        json.dump(myriam_dict, fp)"
   ]
  },
  {
   "cell_type": "code",
   "execution_count": 20,
   "metadata": {},
   "outputs": [],
   "source": [
    "image_path = '/home/mila/v/venkatesh.ramesh/scratch/tree_data/dataset_myriam_split/train/labels_removed_classes_2/'\n",
    "images_list = glob.glob(image_path + '/**/*.png', recursive=True)"
   ]
  },
  {
   "cell_type": "code",
   "execution_count": 21,
   "metadata": {},
   "outputs": [
    {
     "data": {
      "text/plain": [
       "1076"
      ]
     },
     "execution_count": 21,
     "metadata": {},
     "output_type": "execute_result"
    }
   ],
   "source": [
    "len(images_list)"
   ]
  },
  {
   "cell_type": "code",
   "execution_count": 22,
   "metadata": {},
   "outputs": [],
   "source": [
    "# change_list = {10:8, 11:9, 12:10, 13:11, 14:12, 15:13, 16:14, 17:15, 18:16, 19:17, 21:18, 22:19, 24:20, 25:21, 27:22, 28:23}\n",
    "# {'ABBA': 1,\n",
    "#  'ACPE': 2,\n",
    "#  'ACRU': 3,\n",
    "#  'ACSA': 4,\n",
    "#  'BEAL': 6,\n",
    "#  'BEPA': 7,\n",
    "#  'FAGR': 8,\n",
    "#  'LALA': 10,\n",
    "#  'Mort': 11,\n",
    "#  'PIST': 13,\n",
    "#  'Picea': 15,\n",
    "#  'Populus': 16,\n",
    "#  'THOC': 17,\n",
    "#  'TSCA': 18}\n",
    "\n",
    "change_list = {6:5, 7:6, 8:7, 10:8, 11:9, 13:10, 15:11, 16:12, 17:13, 18:14}"
   ]
  },
  {
   "cell_type": "code",
   "execution_count": 23,
   "metadata": {},
   "outputs": [],
   "source": [
    "x = change_list.keys()"
   ]
  },
  {
   "cell_type": "code",
   "execution_count": 24,
   "metadata": {},
   "outputs": [
    {
     "data": {
      "text/plain": [
       "dict_keys([6, 7, 8, 10, 11, 13, 15, 16, 17, 18])"
      ]
     },
     "execution_count": 24,
     "metadata": {},
     "output_type": "execute_result"
    }
   ],
   "source": [
    "x"
   ]
  },
  {
   "cell_type": "code",
   "execution_count": 25,
   "metadata": {},
   "outputs": [
    {
     "name": "stderr",
     "output_type": "stream",
     "text": [
      "100%|██████████| 1076/1076 [00:28<00:00, 37.35it/s]\n"
     ]
    }
   ],
   "source": [
    "from PIL import Image\n",
    "\n",
    "for img in tqdm(images_list):\n",
    "    temp = np.array(Image.open(img))\n",
    "    \n",
    "    \n",
    "    for id in x:\n",
    "        temp[temp == id] = change_list[id]\n",
    "    \n",
    "    min = np.min(temp)\n",
    "    max = np.max(temp)\n",
    "    if min < 0 or max > 14:\n",
    "        temp[temp > 18] = 0\n",
    "        temp[temp < 0] = 0\n",
    "        \n",
    "#     print(np.unique(temp))\n",
    "    \n",
    "    temp = Image.fromarray(temp)\n",
    "    temp.save(img)"
   ]
  },
  {
   "cell_type": "markdown",
   "metadata": {},
   "source": [
    "### Make images and labels list"
   ]
  },
  {
   "cell_type": "code",
   "execution_count": 26,
   "metadata": {},
   "outputs": [],
   "source": [
    "import csv\n",
    "import random\n",
    "import pandas as pd\n",
    "from PIL import Image"
   ]
  },
  {
   "cell_type": "code",
   "execution_count": 45,
   "metadata": {},
   "outputs": [],
   "source": [
    "image_path = '/home/mila/v/venkatesh.ramesh/scratch/tree_data/dataset_myriam_split/train/images'\n",
    "images_list = glob.glob(image_path + '/**/*.png', recursive=True)\n",
    "\n",
    "label_path = '/home/mila/v/venkatesh.ramesh/scratch/tree_data/dataset_myriam_split/train/labels_removed_classes_1/'\n",
    "labels_list = glob.glob(label_path + '/**/*.png', recursive=True)"
   ]
  },
  {
   "cell_type": "code",
   "execution_count": 28,
   "metadata": {},
   "outputs": [],
   "source": [
    "x = Image.open(labels_list[30])"
   ]
  },
  {
   "cell_type": "code",
   "execution_count": 29,
   "metadata": {},
   "outputs": [
    {
     "data": {
      "text/plain": [
       "(768, 768)"
      ]
     },
     "execution_count": 29,
     "metadata": {},
     "output_type": "execute_result"
    }
   ],
   "source": [
    "x = np.array(x)\n",
    "x.shape"
   ]
  },
  {
   "cell_type": "code",
   "execution_count": 46,
   "metadata": {},
   "outputs": [
    {
     "data": {
      "text/plain": [
       "(1076, 1076)"
      ]
     },
     "execution_count": 46,
     "metadata": {},
     "output_type": "execute_result"
    }
   ],
   "source": [
    "len(images_list), len(labels_list)"
   ]
  },
  {
   "cell_type": "code",
   "execution_count": 47,
   "metadata": {},
   "outputs": [
    {
     "data": {
      "text/plain": [
       "(None, None)"
      ]
     },
     "execution_count": 47,
     "metadata": {},
     "output_type": "execute_result"
    }
   ],
   "source": [
    "images_list.sort(), labels_list.sort()"
   ]
  },
  {
   "cell_type": "code",
   "execution_count": 48,
   "metadata": {},
   "outputs": [
    {
     "data": {
      "text/plain": [
       "('/home/mila/v/venkatesh.ramesh/scratch/tree_data/dataset_myriam_split/train/images/zone1/1234943_1492384.png',\n",
       " '/home/mila/v/venkatesh.ramesh/scratch/tree_data/dataset_myriam_split/train/labels_removed_classes_1/zone1/1234943_1492384.png')"
      ]
     },
     "execution_count": 48,
     "metadata": {},
     "output_type": "execute_result"
    }
   ],
   "source": [
    "images_list[199], labels_list[199]"
   ]
  },
  {
   "cell_type": "code",
   "execution_count": 49,
   "metadata": {},
   "outputs": [],
   "source": [
    "data = list(zip(images_list, labels_list))\n",
    "random.shuffle(data)\n",
    "\n",
    "images, labels = zip(*data)"
   ]
  },
  {
   "cell_type": "code",
   "execution_count": 50,
   "metadata": {},
   "outputs": [],
   "source": [
    "images_val = list(images)[:215]\n",
    "labels_val = list(labels)[:215]\n",
    "\n",
    "images_train = list(images)[215:]\n",
    "labels_train = list(labels)[215:]"
   ]
  },
  {
   "cell_type": "code",
   "execution_count": 52,
   "metadata": {},
   "outputs": [
    {
     "data": {
      "text/plain": [
       "('/home/mila/v/venkatesh.ramesh/scratch/tree_data/dataset_myriam_split/train/images/zone1/1234997_1492327.png',\n",
       " '/home/mila/v/venkatesh.ramesh/scratch/tree_data/dataset_myriam_split/train/labels_removed_classes_1/zone1/1234997_1492327.png')"
      ]
     },
     "execution_count": 52,
     "metadata": {},
     "output_type": "execute_result"
    }
   ],
   "source": [
    "images_train[4], labels_train[4]"
   ]
  },
  {
   "cell_type": "code",
   "execution_count": 54,
   "metadata": {},
   "outputs": [],
   "source": [
    "df = pd.DataFrame(data={\"tiles\": images_train, \"labels\": labels_train})\n",
    "df.to_csv('/home/mila/v/venkatesh.ramesh/scratch/tree_data/splits/pretiled_train_768.csv', sep=',', index=False)"
   ]
  },
  {
   "cell_type": "code",
   "execution_count": 66,
   "metadata": {},
   "outputs": [],
   "source": [
    "d1 = pd.read_csv('/home/mila/v/venkatesh.ramesh/scratch/tree_data/splits/pretiled_train_768.csv')"
   ]
  },
  {
   "cell_type": "code",
   "execution_count": 67,
   "metadata": {},
   "outputs": [],
   "source": [
    "images, labels = list(d1['tiles']), list(d1['labels'])"
   ]
  },
  {
   "cell_type": "code",
   "execution_count": 57,
   "metadata": {},
   "outputs": [
    {
     "data": {
      "text/plain": [
       "(None, None)"
      ]
     },
     "execution_count": 57,
     "metadata": {},
     "output_type": "execute_result"
    }
   ],
   "source": [
    "images.sort(), tiles.sort()"
   ]
  },
  {
   "cell_type": "code",
   "execution_count": 68,
   "metadata": {},
   "outputs": [
    {
     "data": {
      "text/plain": [
       "('/home/mila/v/venkatesh.ramesh/scratch/tree_data/dataset_myriam_split/train/images/zone1/1234976_1492363.png',\n",
       " '/home/mila/v/venkatesh.ramesh/scratch/tree_data/dataset_myriam_split/train/labels_removed_classes_1/zone1/1234976_1492363.png')"
      ]
     },
     "execution_count": 68,
     "metadata": {},
     "output_type": "execute_result"
    }
   ],
   "source": [
    "# images[120], labels[120]\n",
    "d1.iloc[120]['tiles'], d1.iloc[120]['labels']"
   ]
  },
  {
   "cell_type": "code",
   "execution_count": 15,
   "metadata": {},
   "outputs": [
    {
     "data": {
      "text/plain": [
       "'/home/mila/v/venkatesh.ramesh/scratch/tree_data/dataset_myriam_split/train/images/zone1/1234970_1492336.png'"
      ]
     },
     "execution_count": 15,
     "metadata": {},
     "output_type": "execute_result"
    }
   ],
   "source": [
    "d1['tiles'][0]"
   ]
  },
  {
   "cell_type": "code",
   "execution_count": 16,
   "metadata": {},
   "outputs": [
    {
     "data": {
      "text/plain": [
       "'/home/mila/v/venkatesh.ramesh/scratch/tree_data/dataset_myriam_split/train/labels_removed_classes_1/zone1/1234958_1492384.png'"
      ]
     },
     "execution_count": 16,
     "metadata": {},
     "output_type": "execute_result"
    }
   ],
   "source": [
    "d1['labels'][0]"
   ]
  },
  {
   "cell_type": "code",
   "execution_count": null,
   "metadata": {},
   "outputs": [],
   "source": []
  }
 ],
 "metadata": {
  "kernelspec": {
   "display_name": "eo",
   "language": "python",
   "name": "eo"
  },
  "language_info": {
   "codemirror_mode": {
    "name": "ipython",
    "version": 3
   },
   "file_extension": ".py",
   "mimetype": "text/x-python",
   "name": "python",
   "nbconvert_exporter": "python",
   "pygments_lexer": "ipython3",
   "version": "3.10.8"
  }
 },
 "nbformat": 4,
 "nbformat_minor": 4
}
