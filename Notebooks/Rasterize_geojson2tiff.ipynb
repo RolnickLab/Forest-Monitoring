{
 "cells": [
  {
   "cell_type": "code",
   "execution_count": 1,
   "metadata": {},
   "outputs": [],
   "source": [
    "import geopandas as gpd\n",
    "from shapely.geometry import Polygon\n",
    "from shapely.ops import transform\n",
    "from shapely.ops import unary_union\n",
    "from rasterio.transform import from_bounds\n",
    "import rasterio\n",
    "from rasterio import mask\n",
    "\n",
    "# Utils\n",
    "import json\n",
    "import os\n",
    "import numpy as np\n",
    "from tqdm import tqdm\n",
    "import glob"
   ]
  },
  {
   "cell_type": "markdown",
   "metadata": {},
   "source": [
    "### Open and re-project"
   ]
  },
  {
   "cell_type": "code",
   "execution_count": 20,
   "metadata": {},
   "outputs": [],
   "source": [
    "tree_path = '/home/mila/v/venkatesh.ramesh/scratch/tree_data'\n",
    "raster_path = os.path.join(tree_path, 'tiles_hierarchical/images/z3/z3_cropped_raster.tif')\n",
    "save_path = os.path.join(tree_path,'tiles_hierarchical/labels/z3/labels_z3.tif') "
   ]
  },
  {
   "cell_type": "code",
   "execution_count": 21,
   "metadata": {},
   "outputs": [],
   "source": [
    "gdf = gpd.read_file(os.path.join(tree_path, 'geojson_polygons/Z3_polygone_2021_09_02_view.geojson'))"
   ]
  },
  {
   "cell_type": "code",
   "execution_count": 22,
   "metadata": {},
   "outputs": [
    {
     "data": {
      "text/plain": [
       "<Geographic 2D CRS: EPSG:4326>\n",
       "Name: WGS 84\n",
       "Axis Info [ellipsoidal]:\n",
       "- Lat[north]: Geodetic latitude (degree)\n",
       "- Lon[east]: Geodetic longitude (degree)\n",
       "Area of Use:\n",
       "- name: World.\n",
       "- bounds: (-180.0, -90.0, 180.0, 90.0)\n",
       "Datum: World Geodetic System 1984 ensemble\n",
       "- Ellipsoid: WGS 84\n",
       "- Prime Meridian: Greenwich"
      ]
     },
     "execution_count": 22,
     "metadata": {},
     "output_type": "execute_result"
    }
   ],
   "source": [
    "gdf.crs"
   ]
  },
  {
   "cell_type": "code",
   "execution_count": 23,
   "metadata": {},
   "outputs": [
    {
     "name": "stdout",
     "output_type": "stream",
     "text": [
      "Raster CRS:  EPSG:32618\n"
     ]
    }
   ],
   "source": [
    "with rasterio.open(raster_path, \"r\") as src:\n",
    "    raster_meta = src.meta\n",
    "    \n",
    "print('Raster CRS: ', raster_meta['crs'])"
   ]
  },
  {
   "cell_type": "code",
   "execution_count": 24,
   "metadata": {},
   "outputs": [],
   "source": [
    "gdf_projected = gdf.to_crs(raster_meta['crs'])"
   ]
  },
  {
   "cell_type": "code",
   "execution_count": 25,
   "metadata": {},
   "outputs": [
    {
     "data": {
      "text/plain": [
       "ACRU        1201\n",
       "ABBA         977\n",
       "BEPA         972\n",
       "THOC         344\n",
       "ACPE         234\n",
       "ACSA         153\n",
       "Picea        142\n",
       "Mort         136\n",
       "FAGR         122\n",
       "Acer         115\n",
       "BEAL          84\n",
       "POGR          70\n",
       "Conifere      28\n",
       "PIRU          23\n",
       "PIST          21\n",
       "Feuillus      14\n",
       "TSCA           7\n",
       "PIGL           7\n",
       "PIMA           4\n",
       "LALA           4\n",
       "Populus        2\n",
       "POTR           1\n",
       "Name: Label, dtype: int64"
      ]
     },
     "execution_count": 25,
     "metadata": {},
     "output_type": "execute_result"
    }
   ],
   "source": [
    "#gdf_projected.head()\n",
    "gdf_projected['Label'].value_counts()"
   ]
  },
  {
   "cell_type": "markdown",
   "metadata": {},
   "source": [
    "### Create masks tiff"
   ]
  },
  {
   "cell_type": "code",
   "execution_count": 26,
   "metadata": {},
   "outputs": [],
   "source": [
    "def write_dataset(mask, save_path, raster_meta):\n",
    "    \"\"\"  \n",
    "    Inputs:\n",
    "    \n",
    "    mask -> Full prediction mask numpy array.\n",
    "    save_path -> Path to write the mask to.\n",
    "    raster_meta -> Metadate from the original raster  \n",
    "    \"\"\"\n",
    "    \n",
    "    mask = mask.astype(\"uint16\")\n",
    "    bin_mask_meta = raster_meta.copy()\n",
    "    bin_mask_meta.update({'count': 1})\n",
    "    with rasterio.open(save_path, 'w', **bin_mask_meta) as dst:\n",
    "        dst.write(mask, 1)\n",
    "#         dst.write(mask * 10, 1)"
   ]
  },
  {
   "cell_type": "code",
   "execution_count": 27,
   "metadata": {},
   "outputs": [],
   "source": [
    "def write_classdict(unq_classes, write_path):\n",
    "    \"\"\"\n",
    "    Inputs:\n",
    "    unq_classes -> Array of unique classes.\n",
    "    write_path -> Path to write the json file to.\n",
    "    \"\"\"\n",
    "    \n",
    "    classes = np.linspace(1, len(unq_classes), num=len(unq_classes), endpoint=True).astype('int')\n",
    "    classes_id = [int(num) for num in classes]\n",
    "    \n",
    "    dictionary = dict(zip(unq_classes, classes_id))\n",
    "    with open(write_path, 'w') as fp:\n",
    "        json.dump(dictionary, fp)"
   ]
  },
  {
   "cell_type": "code",
   "execution_count": 28,
   "metadata": {},
   "outputs": [
    {
     "name": "stderr",
     "output_type": "stream",
     "text": [
      "  0%|          | 0/22 [00:00<?, ?it/s]"
     ]
    },
    {
     "name": "stdout",
     "output_type": "stream",
     "text": [
      "The class id and the corresponding label is:  ABBA 1\n"
     ]
    },
    {
     "name": "stderr",
     "output_type": "stream",
     "text": [
      "  5%|▍         | 1/22 [00:00<00:15,  1.34it/s]"
     ]
    },
    {
     "name": "stdout",
     "output_type": "stream",
     "text": [
      "The class id and the corresponding label is:  ACPE 2\n"
     ]
    },
    {
     "name": "stderr",
     "output_type": "stream",
     "text": [
      "  9%|▉         | 2/22 [00:01<00:13,  1.53it/s]"
     ]
    },
    {
     "name": "stdout",
     "output_type": "stream",
     "text": [
      "The class id and the corresponding label is:  ACRU 3\n"
     ]
    },
    {
     "name": "stderr",
     "output_type": "stream",
     "text": [
      " 14%|█▎        | 3/22 [00:02<00:14,  1.34it/s]"
     ]
    },
    {
     "name": "stdout",
     "output_type": "stream",
     "text": [
      "The class id and the corresponding label is:  ACSA 4\n"
     ]
    },
    {
     "name": "stderr",
     "output_type": "stream",
     "text": [
      " 18%|█▊        | 4/22 [00:02<00:12,  1.46it/s]"
     ]
    },
    {
     "name": "stdout",
     "output_type": "stream",
     "text": [
      "The class id and the corresponding label is:  Acer 5\n"
     ]
    },
    {
     "name": "stderr",
     "output_type": "stream",
     "text": [
      " 23%|██▎       | 5/22 [00:03<00:10,  1.56it/s]"
     ]
    },
    {
     "name": "stdout",
     "output_type": "stream",
     "text": [
      "The class id and the corresponding label is:  BEAL 6\n"
     ]
    },
    {
     "name": "stderr",
     "output_type": "stream",
     "text": [
      " 27%|██▋       | 6/22 [00:03<00:09,  1.62it/s]"
     ]
    },
    {
     "name": "stdout",
     "output_type": "stream",
     "text": [
      "The class id and the corresponding label is:  BEPA 7\n"
     ]
    },
    {
     "name": "stderr",
     "output_type": "stream",
     "text": [
      " 32%|███▏      | 7/22 [00:04<00:10,  1.44it/s]"
     ]
    },
    {
     "name": "stdout",
     "output_type": "stream",
     "text": [
      "The class id and the corresponding label is:  Conifere 8\n"
     ]
    },
    {
     "name": "stderr",
     "output_type": "stream",
     "text": [
      " 36%|███▋      | 8/22 [00:05<00:09,  1.55it/s]"
     ]
    },
    {
     "name": "stdout",
     "output_type": "stream",
     "text": [
      "The class id and the corresponding label is:  FAGR 9\n"
     ]
    },
    {
     "name": "stderr",
     "output_type": "stream",
     "text": [
      " 41%|████      | 9/22 [00:05<00:08,  1.61it/s]"
     ]
    },
    {
     "name": "stdout",
     "output_type": "stream",
     "text": [
      "The class id and the corresponding label is:  Feuillus 10\n"
     ]
    },
    {
     "name": "stderr",
     "output_type": "stream",
     "text": [
      " 45%|████▌     | 10/22 [00:06<00:07,  1.68it/s]"
     ]
    },
    {
     "name": "stdout",
     "output_type": "stream",
     "text": [
      "The class id and the corresponding label is:  LALA 11\n"
     ]
    },
    {
     "name": "stderr",
     "output_type": "stream",
     "text": [
      " 50%|█████     | 11/22 [00:06<00:06,  1.73it/s]"
     ]
    },
    {
     "name": "stdout",
     "output_type": "stream",
     "text": [
      "The class id and the corresponding label is:  Mort 12\n"
     ]
    },
    {
     "name": "stderr",
     "output_type": "stream",
     "text": [
      " 55%|█████▍    | 12/22 [00:07<00:05,  1.72it/s]"
     ]
    },
    {
     "name": "stdout",
     "output_type": "stream",
     "text": [
      "The class id and the corresponding label is:  PIGL 13\n"
     ]
    },
    {
     "name": "stderr",
     "output_type": "stream",
     "text": [
      " 59%|█████▉    | 13/22 [00:08<00:05,  1.76it/s]"
     ]
    },
    {
     "name": "stdout",
     "output_type": "stream",
     "text": [
      "The class id and the corresponding label is:  PIMA 14\n"
     ]
    },
    {
     "name": "stderr",
     "output_type": "stream",
     "text": [
      " 64%|██████▎   | 14/22 [00:08<00:04,  1.79it/s]"
     ]
    },
    {
     "name": "stdout",
     "output_type": "stream",
     "text": [
      "The class id and the corresponding label is:  PIRU 15\n"
     ]
    },
    {
     "name": "stderr",
     "output_type": "stream",
     "text": [
      " 68%|██████▊   | 15/22 [00:09<00:03,  1.80it/s]"
     ]
    },
    {
     "name": "stdout",
     "output_type": "stream",
     "text": [
      "The class id and the corresponding label is:  PIST 16\n"
     ]
    },
    {
     "name": "stderr",
     "output_type": "stream",
     "text": [
      " 73%|███████▎  | 16/22 [00:09<00:03,  1.81it/s]"
     ]
    },
    {
     "name": "stdout",
     "output_type": "stream",
     "text": [
      "The class id and the corresponding label is:  POGR 17\n"
     ]
    },
    {
     "name": "stderr",
     "output_type": "stream",
     "text": [
      " 77%|███████▋  | 17/22 [00:10<00:02,  1.79it/s]"
     ]
    },
    {
     "name": "stdout",
     "output_type": "stream",
     "text": [
      "The class id and the corresponding label is:  POTR 18\n"
     ]
    },
    {
     "name": "stderr",
     "output_type": "stream",
     "text": [
      " 82%|████████▏ | 18/22 [00:10<00:02,  1.82it/s]"
     ]
    },
    {
     "name": "stdout",
     "output_type": "stream",
     "text": [
      "The class id and the corresponding label is:  Picea 19\n"
     ]
    },
    {
     "name": "stderr",
     "output_type": "stream",
     "text": [
      " 86%|████████▋ | 19/22 [00:11<00:01,  1.80it/s]"
     ]
    },
    {
     "name": "stdout",
     "output_type": "stream",
     "text": [
      "The class id and the corresponding label is:  Populus 20\n"
     ]
    },
    {
     "name": "stderr",
     "output_type": "stream",
     "text": [
      " 91%|█████████ | 20/22 [00:11<00:01,  1.82it/s]"
     ]
    },
    {
     "name": "stdout",
     "output_type": "stream",
     "text": [
      "The class id and the corresponding label is:  THOC 21\n"
     ]
    },
    {
     "name": "stderr",
     "output_type": "stream",
     "text": [
      " 95%|█████████▌| 21/22 [00:12<00:00,  1.76it/s]"
     ]
    },
    {
     "name": "stdout",
     "output_type": "stream",
     "text": [
      "The class id and the corresponding label is:  TSCA 22\n"
     ]
    },
    {
     "name": "stderr",
     "output_type": "stream",
     "text": [
      "100%|██████████| 22/22 [00:13<00:00,  1.68it/s]\n"
     ]
    }
   ],
   "source": [
    "# Remove None and empty polygons\n",
    "gdf_cleaned = gdf_projected[~(gdf_projected['geometry'].is_empty | gdf_projected['geometry'].isna())]\n",
    "\n",
    "# Number of unique classes\n",
    "unq_classes = np.unique(gdf_cleaned['Label'])\n",
    "\n",
    "# Numpy array of same size as tiff\n",
    "prediction_merged = np.zeros((raster_meta['height'], raster_meta['width'])).astype('uint16')\n",
    "\n",
    "# Counter to multiply binary mask with\n",
    "cls_label = 0\n",
    "\n",
    "for cls_id in tqdm(unq_classes):\n",
    "    cls_label += 1\n",
    "    \n",
    "    gdf_subset = gdf_cleaned.loc[gdf_cleaned['Label'] == cls_id, 'geometry']\n",
    "    \n",
    "    print('The class id and the corresponding label is: ', cls_id, cls_label)\n",
    "    \n",
    "    positive, _, _ = rasterio.mask.raster_geometry_mask(src, gdf_subset, crop=False)\n",
    "    \n",
    "    # Invert the mask because rasterio gives 0 for positive values\n",
    "    positive = np.logical_not(positive).astype('uint16')\n",
    "    positive = positive*cls_label\n",
    "    prediction_merged += positive\n",
    "    \n",
    "    # Clear to free up memory\n",
    "    del positive\n",
    "\n",
    "# Write things to disk\n",
    "write_dataset(prediction_merged, save_path, raster_meta)\n",
    "# write_classdict(unq_classes, '/home/mila/v/venkatesh.ramesh/scratch/tree_data/tiles_512/labels/z2/classes_z2.json')"
   ]
  },
  {
   "cell_type": "code",
   "execution_count": null,
   "metadata": {},
   "outputs": [],
   "source": []
  }
 ],
 "metadata": {
  "kernelspec": {
   "display_name": "eo",
   "language": "python",
   "name": "eo"
  },
  "language_info": {
   "codemirror_mode": {
    "name": "ipython",
    "version": 3
   },
   "file_extension": ".py",
   "mimetype": "text/x-python",
   "name": "python",
   "nbconvert_exporter": "python",
   "pygments_lexer": "ipython3",
   "version": "3.10.8"
  }
 },
 "nbformat": 4,
 "nbformat_minor": 4
}
