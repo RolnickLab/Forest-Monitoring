{
 "cells": [
  {
   "cell_type": "code",
   "execution_count": 1,
   "metadata": {},
   "outputs": [],
   "source": [
    "import csv\n",
    "import random\n",
    "import pandas as pd\n",
    "from PIL import Image\n",
    "import glob\n",
    "import numpy as np\n",
    "import os\n",
    "import shutil\n",
    "from tqdm import tqdm"
   ]
  },
  {
   "cell_type": "code",
   "execution_count": 2,
   "metadata": {},
   "outputs": [],
   "source": [
    "sept_img_path = '/home/mila/v/venkatesh.ramesh/scratch/tree_data/tiles_hierarchical/images/z1/22'"
   ]
  },
  {
   "cell_type": "code",
   "execution_count": 3,
   "metadata": {},
   "outputs": [
    {
     "name": "stdout",
     "output_type": "stream",
     "text": [
      "8372\n"
     ]
    }
   ],
   "source": [
    "sept_img_list = glob.glob(sept_img_path + '/**/*.png', recursive=True)\n",
    "\n",
    "print(len(sept_img_list))"
   ]
  },
  {
   "cell_type": "code",
   "execution_count": 4,
   "metadata": {},
   "outputs": [],
   "source": [
    "image_root_path = '/home/mila/v/venkatesh.ramesh/scratch/tree_data/image_time_series_data/z1'\n",
    "image_folders = os.listdir(image_root_path)"
   ]
  },
  {
   "cell_type": "code",
   "execution_count": 5,
   "metadata": {},
   "outputs": [
    {
     "data": {
      "text/plain": [
       "['2021-05-28-sbl-cloutier-z1-MS',\n",
       " '2021-06-17-sbl-cloutier-z1-MS',\n",
       " '2021-07-21-sbl-cloutier-z1-MS',\n",
       " '2021-09-28-sbl-cloutier-z1-MS',\n",
       " '2021-10-07-sbl-cloutier-z1-MS',\n",
       " '2021-08-18-sbl-cloutier-z1-M']"
      ]
     },
     "execution_count": 5,
     "metadata": {},
     "output_type": "execute_result"
    }
   ],
   "source": [
    "image_folders"
   ]
  },
  {
   "cell_type": "code",
   "execution_count": 6,
   "metadata": {},
   "outputs": [],
   "source": [
    "sept_img_ids = []\n",
    "for files in sept_img_list:\n",
    "    splits = files.split('/')\n",
    "    z, x, y = splits[-3], splits[-2], splits[-1]\n",
    "    sept_img_ids.append(os.path.join(z, x, y))"
   ]
  },
  {
   "cell_type": "code",
   "execution_count": 7,
   "metadata": {},
   "outputs": [
    {
     "name": "stderr",
     "output_type": "stream",
     "text": [
      "100%|██████████| 6/6 [00:09<00:00,  1.52s/it]\n"
     ]
    }
   ],
   "source": [
    "for folder in tqdm(image_folders):\n",
    "    folder_img_ids = []\n",
    "    new_image_list = glob.glob(os.path.join(image_root_path, folder, '22') + '/**/*.png', recursive=True)\n",
    "    \n",
    "    for files in new_image_list:\n",
    "        splits = files.split('/')\n",
    "        z, x, y = splits[-3], splits[-2], splits[-1]\n",
    "        folder_img_ids.append(os.path.join(z, x, y))\n",
    "        \n",
    "    for img in folder_img_ids:\n",
    "        if img not in sept_img_ids:\n",
    "            os.remove(os.path.join(image_root_path, folder, img))"
   ]
  },
  {
   "cell_type": "markdown",
   "metadata": {},
   "source": [
    "### Create image time-series csv file"
   ]
  },
  {
   "cell_type": "code",
   "execution_count": 60,
   "metadata": {},
   "outputs": [],
   "source": [
    "import pandas as pd\n",
    "import os\n",
    "from tqdm import tqdm\n",
    "\n",
    "data = pd.read_csv('/home/mila/v/venkatesh.ramesh/scratch/tree_data/splits/hierarchical/val_768.csv')"
   ]
  },
  {
   "cell_type": "code",
   "execution_count": 61,
   "metadata": {},
   "outputs": [
    {
     "data": {
      "text/plain": [
       "Index(['tiles', 'labels'], dtype='object')"
      ]
     },
     "execution_count": 61,
     "metadata": {},
     "output_type": "execute_result"
    }
   ],
   "source": [
    "data.keys()"
   ]
  },
  {
   "cell_type": "code",
   "execution_count": 62,
   "metadata": {},
   "outputs": [
    {
     "name": "stdout",
     "output_type": "stream",
     "text": [
      "/home/mila/v/venkatesh.ramesh/scratch/tree_data/dataset_myriam_split_hierarchical/train/images/zone1/1234928_1492345.png\n"
     ]
    }
   ],
   "source": [
    "print(data['tiles'][80])"
   ]
  },
  {
   "cell_type": "code",
   "execution_count": 63,
   "metadata": {},
   "outputs": [],
   "source": [
    "root_dir = '/home/mila/v/venkatesh.ramesh/scratch/tree_data/image_time_series_data'\n",
    "z1_folders = os.listdir('/home/mila/v/venkatesh.ramesh/scratch/tree_data/image_time_series_data/z1')\n",
    "z2_folders = os.listdir('/home/mila/v/venkatesh.ramesh/scratch/tree_data/image_time_series_data/z2')\n",
    "z3_folders = os.listdir('/home/mila/v/venkatesh.ramesh/scratch/tree_data/image_time_series_data/z3')"
   ]
  },
  {
   "cell_type": "code",
   "execution_count": 64,
   "metadata": {},
   "outputs": [],
   "source": [
    "images_may, images_june, images_july, images_august, images_september, images_october = [], [], [], [], [], []"
   ]
  },
  {
   "cell_type": "code",
   "execution_count": 65,
   "metadata": {},
   "outputs": [
    {
     "name": "stderr",
     "output_type": "stream",
     "text": [
      "100%|██████████| 215/215 [00:00<00:00, 53654.75it/s]\n"
     ]
    }
   ],
   "source": [
    "for file in tqdm(data['tiles']):\n",
    "    if 'zone1' in file:\n",
    "        image_id = file.split('/')[-1]\n",
    "        images_may.append(os.path.join(root_dir, 'z1', 'images_may', 'zone1', image_id))\n",
    "        images_june.append(os.path.join(root_dir, 'z1', 'images_june', 'zone1', image_id))\n",
    "        images_july.append(os.path.join(root_dir, 'z1', 'images_july', 'zone1', image_id))\n",
    "        images_august.append(os.path.join(root_dir, 'z1', 'images_august', 'zone1', image_id))\n",
    "        images_september.append(os.path.join(root_dir, 'z1', 'images_september', 'zone1', image_id))\n",
    "        images_october.append(os.path.join(root_dir, 'z1', 'images_october', 'zone1', image_id))\n",
    "    \n",
    "    elif 'zone2' in file:\n",
    "        image_id = file.split('/')[-1]\n",
    "        images_may.append(os.path.join(root_dir, 'z2', 'images_may', 'zone2', image_id))\n",
    "        images_june.append(os.path.join(root_dir, 'z2', 'images_june', 'zone2', image_id))\n",
    "        images_july.append(os.path.join(root_dir, 'z2', 'images_july', 'zone2', image_id))\n",
    "        images_august.append(os.path.join(root_dir, 'z2', 'images_august', 'zone2', image_id))\n",
    "        images_september.append(os.path.join(root_dir, 'z2', 'images_september', 'zone2', image_id))\n",
    "        images_october.append(os.path.join(root_dir, 'z2', 'images_october', 'zone2', image_id))\n",
    "    \n",
    "    elif 'zone3' in file:\n",
    "        image_id = file.split('/')[-1]\n",
    "        images_may.append(os.path.join(root_dir, 'z3', 'images_may', 'zone3', image_id))\n",
    "        images_june.append(os.path.join(root_dir, 'z3', 'images_june', 'zone3', image_id))\n",
    "        images_july.append(os.path.join(root_dir, 'z3', 'images_july', 'zone3', image_id))\n",
    "        images_august.append(os.path.join(root_dir, 'z3', 'images_august', 'zone3', image_id))\n",
    "        images_september.append(os.path.join(root_dir, 'z3', 'images_september', 'zone3', image_id))\n",
    "        images_october.append(os.path.join(root_dir, 'z3', 'images_october', 'zone3', image_id))"
   ]
  },
  {
   "cell_type": "code",
   "execution_count": null,
   "metadata": {},
   "outputs": [],
   "source": [
    "images_october"
   ]
  },
  {
   "cell_type": "code",
   "execution_count": 67,
   "metadata": {},
   "outputs": [
    {
     "data": {
      "text/plain": [
       "215"
      ]
     },
     "execution_count": 67,
     "metadata": {},
     "output_type": "execute_result"
    }
   ],
   "source": [
    "len(images_october)"
   ]
  },
  {
   "cell_type": "code",
   "execution_count": 68,
   "metadata": {},
   "outputs": [],
   "source": [
    "df = pd.DataFrame(data={\"tiles_main\": data['tiles'], \"tiles_may\": images_may, \"tiles_june\": images_june, \"tiles_july\": images_july, \"tiles_august\": images_august,\n",
    "                        \"tiles_september\": images_september, \"tiles_october\": images_october, \"labels\": data['labels']})\n",
    "df.to_csv('/home/mila/v/venkatesh.ramesh/scratch/tree_data/splits/image_time_series/val_768.csv', sep=',', index=False)"
   ]
  },
  {
   "cell_type": "code",
   "execution_count": null,
   "metadata": {},
   "outputs": [],
   "source": []
  }
 ],
 "metadata": {
  "kernelspec": {
   "display_name": "emulator",
   "language": "python",
   "name": "emulator"
  },
  "language_info": {
   "codemirror_mode": {
    "name": "ipython",
    "version": 3
   },
   "file_extension": ".py",
   "mimetype": "text/x-python",
   "name": "python",
   "nbconvert_exporter": "python",
   "pygments_lexer": "ipython3",
   "version": "3.10.11"
  }
 },
 "nbformat": 4,
 "nbformat_minor": 4
}
