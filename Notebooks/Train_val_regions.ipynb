{
 "cells": [
  {
   "cell_type": "code",
   "execution_count": 3,
   "metadata": {},
   "outputs": [],
   "source": [
    "import geopandas as gpd\n",
    "from shapely.geometry import Polygon\n",
    "from shapely.ops import transform\n",
    "from shapely.ops import unary_union\n",
    "from rasterio.transform import from_bounds\n",
    "import rasterio\n",
    "from rasterio import mask\n",
    "\n",
    "# Utils\n",
    "import json\n",
    "import os\n",
    "import numpy as np\n",
    "from tqdm import tqdm\n",
    "import glob"
   ]
  },
  {
   "cell_type": "markdown",
   "metadata": {},
   "source": [
    "### Open and re-project"
   ]
  },
  {
   "cell_type": "code",
   "execution_count": null,
   "metadata": {},
   "outputs": [],
   "source": [
    "tree_path = '/home/mila/v/venkatesh.ramesh/scratch/tree_data'\n",
    "raster_path = os.path.join(tree_path, 'Tree_data/2021-09-02-sbl-cloutier-z3-MS/2021-09-02-sbl-cloutier-z3-UTM18-MS.tif')\n",
    "save_path = os.path.join(tree_path,'labels/zone3_merged.tif') "
   ]
  },
  {
   "cell_type": "code",
   "execution_count": null,
   "metadata": {},
   "outputs": [],
   "source": [
    "gdf = gpd.read_file(os.path.join('/home/mila/v/venkatesh.ramesh/scratch/tree_data/geojson_polygons/individual_regions/val_region_poly.geojson'))"
   ]
  },
  {
   "cell_type": "code",
   "execution_count": null,
   "metadata": {},
   "outputs": [],
   "source": [
    "gdf.crs"
   ]
  },
  {
   "cell_type": "code",
   "execution_count": null,
   "metadata": {},
   "outputs": [],
   "source": [
    "with rasterio.open(raster_path, \"r\") as src:\n",
    "    raster_meta = src.meta\n",
    "    \n",
    "print('Raster CRS: ', raster_meta['crs'])"
   ]
  },
  {
   "cell_type": "code",
   "execution_count": null,
   "metadata": {},
   "outputs": [],
   "source": [
    "gdf_projected = gdf.to_crs(raster_meta['crs'])"
   ]
  },
  {
   "cell_type": "code",
   "execution_count": null,
   "metadata": {},
   "outputs": [],
   "source": [
    "gdf_projected.head()"
   ]
  },
  {
   "cell_type": "code",
   "execution_count": null,
   "metadata": {},
   "outputs": [],
   "source": [
    "count_val = gdf_projected['Label'].value_counts()"
   ]
  },
  {
   "cell_type": "code",
   "execution_count": null,
   "metadata": {},
   "outputs": [],
   "source": [
    "count_test = gdf_projected['Label'].value_counts()"
   ]
  },
  {
   "cell_type": "code",
   "execution_count": null,
   "metadata": {},
   "outputs": [],
   "source": [
    "count = gdf_projected['Label'].value_counts()"
   ]
  },
  {
   "cell_type": "code",
   "execution_count": null,
   "metadata": {},
   "outputs": [],
   "source": [
    "count_val"
   ]
  },
  {
   "cell_type": "code",
   "execution_count": null,
   "metadata": {},
   "outputs": [],
   "source": [
    "count_test"
   ]
  },
  {
   "cell_type": "code",
   "execution_count": null,
   "metadata": {},
   "outputs": [],
   "source": [
    "count"
   ]
  },
  {
   "cell_type": "code",
   "execution_count": null,
   "metadata": {},
   "outputs": [],
   "source": [
    "labels, frequency = np.unique(gdf_projected['Label'], return_counts=True)"
   ]
  },
  {
   "cell_type": "code",
   "execution_count": null,
   "metadata": {},
   "outputs": [],
   "source": [
    "frequency"
   ]
  },
  {
   "cell_type": "code",
   "execution_count": null,
   "metadata": {},
   "outputs": [],
   "source": [
    "len(labels)"
   ]
  },
  {
   "cell_type": "markdown",
   "metadata": {},
   "source": [
    "### Read CSVs"
   ]
  },
  {
   "cell_type": "code",
   "execution_count": null,
   "metadata": {},
   "outputs": [],
   "source": [
    "import pandas as pd\n",
    "import os"
   ]
  },
  {
   "cell_type": "code",
   "execution_count": null,
   "metadata": {},
   "outputs": [],
   "source": [
    "train_dataset = pd.read_csv('/home/mila/v/venkatesh.ramesh/scratch/tree_data/splits/geographic_train_256.csv')"
   ]
  },
  {
   "cell_type": "code",
   "execution_count": null,
   "metadata": {},
   "outputs": [],
   "source": [
    "# print(train_dataset['la'])\n",
    "train_dataset"
   ]
  },
  {
   "cell_type": "code",
   "execution_count": null,
   "metadata": {},
   "outputs": [],
   "source": [
    "x = train_dataset['tiles'][0]"
   ]
  },
  {
   "cell_type": "code",
   "execution_count": null,
   "metadata": {},
   "outputs": [],
   "source": [
    "print(x)"
   ]
  },
  {
   "cell_type": "code",
   "execution_count": null,
   "metadata": {},
   "outputs": [],
   "source": [
    "splits = x.split('/')[:-3]\n",
    "print(splits)"
   ]
  },
  {
   "cell_type": "code",
   "execution_count": null,
   "metadata": {},
   "outputs": [],
   "source": [
    "print('/' + os.path.join(*splits))"
   ]
  },
  {
   "cell_type": "markdown",
   "metadata": {},
   "source": [
    "### Removing classes and ignore index"
   ]
  },
  {
   "cell_type": "markdown",
   "metadata": {},
   "source": [
    "remove_classes = QURU, PRPE, POBA, BEPO\n",
    "\n",
    "ignore_index = Autres, Betula \n",
    "\n",
    "coarser_labels = Acer, Betula, Conifere, Feuillus\n",
    "\n",
    "ignore_index = Autres, Betula, QURU, PRPE, POBA, BEPO\n",
    "\n",
    "\n",
    "ignore_index_maybe = Acer, Conifere, Feuillus (They have high frequency of appearence so maybe iteration 2)\n",
    "\n",
    "\n",
    "TSCA has least annotation but it is used."
   ]
  },
  {
   "cell_type": "markdown",
   "metadata": {},
   "source": [
    "**Iteration 1:**\n",
    "\n",
    "1. remove_classes = QURU, PRPE, POBA, BEPO, Betula, Autres, OSVI (very low frequency classes)\n",
    "\n",
    "**Iteration 2:**\n",
    "\n",
    "1. remove_classes = QURU, PRPE, POBA, BEPO, Betula, Autres, OSVI (very low frequency classes)\n",
    "2. ignore_index = Acer, Conifere, Feuillus"
   ]
  },
  {
   "cell_type": "code",
   "execution_count": 2,
   "metadata": {},
   "outputs": [],
   "source": [
    "class_dict = {\"ABBA\": 1, \"ACPE\": 2, \"ACRU\": 3, \"ACSA\": 4, \"Acer\": 5, \"BEAL\": 6, \"BEPA\": 7, \"BEPO\": 8, \"Betula\": 9, \"Conifere\": 10, \"FAGR\": 11, \"FRNI\": 12, \"Feuillus\": 13, \"LALA\": 14, \"Mort\": 15, \"PIGL\": 16, \"PIMA\": 17, \"PIRU\": 18, \"PIST\": 19, \"POBA\": 20, \"POGR\": 21, \"POTR\": 22, \"PRPE\": 23, \"Picea\": 24, \"Populus\": 25, \"QURU\": 26, \"THOC\": 27, \"TSCA\": 28, \"Autres\": 29, \"OSVI\": 30}"
   ]
  },
  {
   "cell_type": "code",
   "execution_count": 2,
   "metadata": {},
   "outputs": [],
   "source": [
    "image_path = '/home/mila/v/venkatesh.ramesh/scratch/tree_data/dataset_myriam_split/train/labels_removed_classes_2/'\n",
    "images_list = glob.glob(image_path + '/**/*.png', recursive=True)"
   ]
  },
  {
   "cell_type": "code",
   "execution_count": 3,
   "metadata": {},
   "outputs": [
    {
     "data": {
      "text/plain": [
       "1076"
      ]
     },
     "execution_count": 3,
     "metadata": {},
     "output_type": "execute_result"
    }
   ],
   "source": [
    "len(images_list)"
   ]
  },
  {
   "cell_type": "markdown",
   "metadata": {},
   "source": [
    "### Check max"
   ]
  },
  {
   "cell_type": "code",
   "execution_count": 16,
   "metadata": {},
   "outputs": [
    {
     "name": "stderr",
     "output_type": "stream",
     "text": [
      "100%|██████████| 280/280 [00:00<00:00, 310.32it/s]\n"
     ]
    }
   ],
   "source": [
    "from PIL import Image\n",
    "\n",
    "for img in tqdm(images_list):\n",
    "    temp = np.array(Image.open(img))\n",
    "    min = np.min(temp)\n",
    "    max = np.max(temp)\n",
    "    \n",
    "    if min < 0 or max > 23:\n",
    "#         print(img)\n",
    "#         print(min, max)\n",
    "#         print('HI')\n",
    "        temp[temp > 23] = 0\n",
    "        temp = Image.fromarray(temp)\n",
    "        temp.save(img)\n",
    "    \n",
    "#     for id in remove_labels:\n",
    "#         temp[temp == id] = 0\n",
    "        \n",
    "    temp = Image.fromarray(temp)\n",
    "    temp.save(img)"
   ]
  },
  {
   "cell_type": "code",
   "execution_count": null,
   "metadata": {},
   "outputs": [],
   "source": [
    "test = Image.open('/home/mila/v/venkatesh.ramesh/scratch/tree_data/dataset_myriam_split/train/labels_removed_classes_1/zone1/1234940_1492354.png')"
   ]
  },
  {
   "cell_type": "code",
   "execution_count": 10,
   "metadata": {},
   "outputs": [],
   "source": [
    "unq = np.unique(np.array(test))"
   ]
  },
  {
   "cell_type": "code",
   "execution_count": 11,
   "metadata": {},
   "outputs": [
    {
     "name": "stdout",
     "output_type": "stream",
     "text": [
      "[ 0  1  2  3  4  5  6  7  8  9 10 11 12 13 14 15 16 17 18 19 20 23 31]\n"
     ]
    }
   ],
   "source": [
    "print(unq)"
   ]
  },
  {
   "cell_type": "markdown",
   "metadata": {},
   "source": [
    "### Make labels ordering sequential"
   ]
  },
  {
   "cell_type": "code",
   "execution_count": 5,
   "metadata": {},
   "outputs": [],
   "source": [
    "remove_list = [\"Acer\", \"Feuillus\", \"PIMA\", \"POGR\"]\n",
    "\n",
    "remove_labels = [myriam_dict[v] for v in remove_list]"
   ]
  },
  {
   "cell_type": "code",
   "execution_count": 7,
   "metadata": {},
   "outputs": [
    {
     "name": "stderr",
     "output_type": "stream",
     "text": [
      "100%|██████████| 1076/1076 [00:16<00:00, 64.61it/s]\n"
     ]
    }
   ],
   "source": [
    "from PIL import Image\n",
    "\n",
    "for img in tqdm(images_list):\n",
    "    temp = np.array(Image.open(img))\n",
    "    \n",
    "    for id in remove_labels:\n",
    "        temp[temp == id] = 0\n",
    "        \n",
    "    temp = Image.fromarray(temp)\n",
    "    temp.save(img)"
   ]
  },
  {
   "cell_type": "code",
   "execution_count": 8,
   "metadata": {},
   "outputs": [],
   "source": [
    "new_dict = myriam_dict\n",
    "\n",
    "for key in remove_list:\n",
    "    del new_dict[key]"
   ]
  },
  {
   "cell_type": "code",
   "execution_count": 9,
   "metadata": {},
   "outputs": [],
   "source": [
    "with open('/home/mila/v/venkatesh.ramesh/scratch/tree_data/classes_onlymyriam.json', 'w') as fp:\n",
    "        json.dump(new_dict, fp)"
   ]
  },
  {
   "cell_type": "code",
   "execution_count": 10,
   "metadata": {},
   "outputs": [
    {
     "data": {
      "text/plain": [
       "14"
      ]
     },
     "execution_count": 10,
     "metadata": {},
     "output_type": "execute_result"
    }
   ],
   "source": [
    "len(new_dict)"
   ]
  },
  {
   "cell_type": "code",
   "execution_count": 11,
   "metadata": {},
   "outputs": [],
   "source": [
    "with open('/home/mila/v/venkatesh.ramesh/scratch/tree_data/classes_onlymyriam.json', 'r') as fp:\n",
    "        new_dict = json.load(fp)"
   ]
  },
  {
   "cell_type": "code",
   "execution_count": 12,
   "metadata": {},
   "outputs": [
    {
     "data": {
      "text/plain": [
       "{'ABBA': 1,\n",
       " 'ACPE': 2,\n",
       " 'ACRU': 3,\n",
       " 'ACSA': 4,\n",
       " 'BEAL': 6,\n",
       " 'BEPA': 7,\n",
       " 'FAGR': 8,\n",
       " 'LALA': 10,\n",
       " 'Mort': 11,\n",
       " 'PIST': 13,\n",
       " 'Picea': 15,\n",
       " 'Populus': 16,\n",
       " 'THOC': 17,\n",
       " 'TSCA': 18}"
      ]
     },
     "execution_count": 12,
     "metadata": {},
     "output_type": "execute_result"
    }
   ],
   "source": [
    "new_dict"
   ]
  },
  {
   "cell_type": "code",
   "execution_count": 18,
   "metadata": {},
   "outputs": [],
   "source": [
    "changed_dict = {'ABBA': 1,\n",
    " 'ACPE': 2,\n",
    " 'ACRU': 3,\n",
    " 'ACSA': 4,\n",
    " 'Acer': 5,\n",
    " 'BEAL': 6,\n",
    " 'BEPA': 7,\n",
    " 'Conifere': 8,\n",
    " 'FAGR': 9,\n",
    " 'FRNI': 10,\n",
    " 'Feuillus': 11,\n",
    " 'LALA': 12,\n",
    " 'Mort': 13,\n",
    " 'PIGL': 14,\n",
    " 'PIMA': 15,\n",
    " 'PIRU': 16,\n",
    " 'PIST': 17,\n",
    " 'POGR': 18,\n",
    " 'POTR': 19,\n",
    " 'Picea': 20,\n",
    " 'Populus': 21,\n",
    " 'THOC': 22,\n",
    " 'TSCA': 23}"
   ]
  },
  {
   "cell_type": "code",
   "execution_count": 13,
   "metadata": {},
   "outputs": [],
   "source": [
    "# myriam_dict =  {'ABBA': 1,\n",
    "#  'ACPE': 2,\n",
    "#  'ACRU': 3,\n",
    "#  'ACSA': 4,\n",
    "#  'Acer': 5, #Ignore this\n",
    "#  'BEAL': 6,\n",
    "#  'BEPA': 7,\n",
    "#  'FAGR': 8,\n",
    "#  'Feuillus': 9, # Ignore this\n",
    "#  'LALA': 10,\n",
    "#  'Mort': 11,\n",
    "#  'PIMA': 12, # Ignore this\n",
    "#  'PIST': 13,\n",
    "#  'POGR': 14, # Ignore this\n",
    "#  'Picea': 15,\n",
    "#  'Populus': 16,\n",
    "#  'THOC': 17,\n",
    "#  'TSCA': 18 }\n",
    "# #  'Conifere': 19, Ignore index\n",
    "# #  'FRNI': 20, Ignore index\n",
    "# #  'PIGL': 21, Ignore index\n",
    "# #  'PIRU': 16,\n",
    "# #  'POTR': 19, # Ignore index\n",
    " \n",
    " "
   ]
  },
  {
   "cell_type": "code",
   "execution_count": 17,
   "metadata": {},
   "outputs": [],
   "source": [
    "with open('/home/mila/v/venkatesh.ramesh/scratch/tree_data/classes_myriam_modified.json', 'w') as fp:\n",
    "        json.dump(myriam_dict, fp)"
   ]
  },
  {
   "cell_type": "code",
   "execution_count": 20,
   "metadata": {},
   "outputs": [],
   "source": [
    "image_path = '/home/mila/v/venkatesh.ramesh/scratch/tree_data/dataset_myriam_split/train/labels_removed_classes_2/'\n",
    "images_list = glob.glob(image_path + '/**/*.png', recursive=True)"
   ]
  },
  {
   "cell_type": "code",
   "execution_count": 21,
   "metadata": {},
   "outputs": [
    {
     "data": {
      "text/plain": [
       "1076"
      ]
     },
     "execution_count": 21,
     "metadata": {},
     "output_type": "execute_result"
    }
   ],
   "source": [
    "len(images_list)"
   ]
  },
  {
   "cell_type": "code",
   "execution_count": 22,
   "metadata": {},
   "outputs": [],
   "source": [
    "# change_list = {10:8, 11:9, 12:10, 13:11, 14:12, 15:13, 16:14, 17:15, 18:16, 19:17, 21:18, 22:19, 24:20, 25:21, 27:22, 28:23}\n",
    "# {'ABBA': 1,\n",
    "#  'ACPE': 2,\n",
    "#  'ACRU': 3,\n",
    "#  'ACSA': 4,\n",
    "#  'BEAL': 6,\n",
    "#  'BEPA': 7,\n",
    "#  'FAGR': 8,\n",
    "#  'LALA': 10,\n",
    "#  'Mort': 11,\n",
    "#  'PIST': 13,\n",
    "#  'Picea': 15,\n",
    "#  'Populus': 16,\n",
    "#  'THOC': 17,\n",
    "#  'TSCA': 18}\n",
    "\n",
    "change_list = {6:5, 7:6, 8:7, 10:8, 11:9, 13:10, 15:11, 16:12, 17:13, 18:14}"
   ]
  },
  {
   "cell_type": "code",
   "execution_count": 23,
   "metadata": {},
   "outputs": [],
   "source": [
    "x = change_list.keys()"
   ]
  },
  {
   "cell_type": "code",
   "execution_count": 24,
   "metadata": {},
   "outputs": [
    {
     "data": {
      "text/plain": [
       "dict_keys([6, 7, 8, 10, 11, 13, 15, 16, 17, 18])"
      ]
     },
     "execution_count": 24,
     "metadata": {},
     "output_type": "execute_result"
    }
   ],
   "source": [
    "x"
   ]
  },
  {
   "cell_type": "code",
   "execution_count": 25,
   "metadata": {},
   "outputs": [
    {
     "name": "stderr",
     "output_type": "stream",
     "text": [
      "100%|██████████| 1076/1076 [00:28<00:00, 37.35it/s]\n"
     ]
    }
   ],
   "source": [
    "from PIL import Image\n",
    "\n",
    "for img in tqdm(images_list):\n",
    "    temp = np.array(Image.open(img))\n",
    "    \n",
    "    \n",
    "    for id in x:\n",
    "        temp[temp == id] = change_list[id]\n",
    "    \n",
    "    min = np.min(temp)\n",
    "    max = np.max(temp)\n",
    "    if min < 0 or max > 14:\n",
    "        temp[temp > 18] = 0\n",
    "        temp[temp < 0] = 0\n",
    "        \n",
    "#     print(np.unique(temp))\n",
    "    \n",
    "    temp = Image.fromarray(temp)\n",
    "    temp.save(img)"
   ]
  },
  {
   "cell_type": "markdown",
   "metadata": {},
   "source": [
    "### Make images and labels list"
   ]
  },
  {
   "cell_type": "code",
   "execution_count": 2,
   "metadata": {},
   "outputs": [],
   "source": [
    "import csv\n",
    "import random\n",
    "import pandas as pd\n",
    "from PIL import Image"
   ]
  },
  {
   "cell_type": "code",
   "execution_count": 104,
   "metadata": {},
   "outputs": [],
   "source": [
    "image_path = '/home/mila/v/venkatesh.ramesh/scratch/tree_data/dataset_myriam_split_hierarchical/train/images'\n",
    "images_list = glob.glob(image_path + '/**/*.png', recursive=True)\n",
    "\n",
    "label_path = '/home/mila/v/venkatesh.ramesh/scratch/tree_data/dataset_myriam_split_hierarchical/train/labels_merged/'\n",
    "labels_list = glob.glob(label_path + '/**/*.png', recursive=True)"
   ]
  },
  {
   "cell_type": "code",
   "execution_count": 87,
   "metadata": {},
   "outputs": [],
   "source": [
    "# for img in labels_list:\n",
    "#     x = np.array(Image.open(img))\n",
    "#     print(np.unique(x))"
   ]
  },
  {
   "cell_type": "code",
   "execution_count": 105,
   "metadata": {},
   "outputs": [],
   "source": [
    "x = Image.open(labels_list[30])"
   ]
  },
  {
   "cell_type": "code",
   "execution_count": 106,
   "metadata": {},
   "outputs": [],
   "source": [
    "# x"
   ]
  },
  {
   "cell_type": "code",
   "execution_count": 107,
   "metadata": {},
   "outputs": [
    {
     "data": {
      "text/plain": [
       "(768, 768, 3)"
      ]
     },
     "execution_count": 107,
     "metadata": {},
     "output_type": "execute_result"
    }
   ],
   "source": [
    "x = np.array(x)\n",
    "x.shape"
   ]
  },
  {
   "cell_type": "code",
   "execution_count": 108,
   "metadata": {},
   "outputs": [
    {
     "name": "stdout",
     "output_type": "stream",
     "text": [
      "[0 1 2 3 4]\n"
     ]
    }
   ],
   "source": [
    "print(np.unique(x))"
   ]
  },
  {
   "cell_type": "code",
   "execution_count": 109,
   "metadata": {},
   "outputs": [
    {
     "data": {
      "text/plain": [
       "(1076, 1076)"
      ]
     },
     "execution_count": 109,
     "metadata": {},
     "output_type": "execute_result"
    }
   ],
   "source": [
    "len(images_list), len(labels_list)"
   ]
  },
  {
   "cell_type": "code",
   "execution_count": 110,
   "metadata": {},
   "outputs": [
    {
     "data": {
      "text/plain": [
       "(None, None)"
      ]
     },
     "execution_count": 110,
     "metadata": {},
     "output_type": "execute_result"
    }
   ],
   "source": [
    "images_list.sort(), labels_list.sort()"
   ]
  },
  {
   "cell_type": "code",
   "execution_count": 111,
   "metadata": {},
   "outputs": [
    {
     "data": {
      "text/plain": [
       "('/home/mila/v/venkatesh.ramesh/scratch/tree_data/dataset_myriam_split_hierarchical/train/images/zone1/1234916_1492357.png',\n",
       " '/home/mila/v/venkatesh.ramesh/scratch/tree_data/dataset_myriam_split_hierarchical/train/labels_merged/zone1/1234916_1492357.png')"
      ]
     },
     "execution_count": 111,
     "metadata": {},
     "output_type": "execute_result"
    }
   ],
   "source": [
    "images_list[4], labels_list[4]"
   ]
  },
  {
   "cell_type": "code",
   "execution_count": 112,
   "metadata": {},
   "outputs": [],
   "source": [
    "data = list(zip(images_list, labels_list))\n",
    "random.shuffle(data)\n",
    "\n",
    "images, labels = zip(*data)"
   ]
  },
  {
   "cell_type": "code",
   "execution_count": 113,
   "metadata": {},
   "outputs": [],
   "source": [
    "images_val = list(images)[:215]\n",
    "labels_val = list(labels)[:215]\n",
    "\n",
    "images_train = list(images)[215:]\n",
    "labels_train = list(labels)[215:]"
   ]
  },
  {
   "cell_type": "code",
   "execution_count": 98,
   "metadata": {},
   "outputs": [],
   "source": [
    "images_test = list(images)\n",
    "labels_test = list(labels)"
   ]
  },
  {
   "cell_type": "code",
   "execution_count": 99,
   "metadata": {},
   "outputs": [
    {
     "data": {
      "text/plain": [
       "('/home/mila/v/venkatesh.ramesh/scratch/tree_data/dataset_myriam_split_hierarchical/test/images/zone3/1234876_1492306.png',\n",
       " '/home/mila/v/venkatesh.ramesh/scratch/tree_data/dataset_myriam_split_hierarchical/test/labels_merged/zone3/1234876_1492306.png')"
      ]
     },
     "execution_count": 99,
     "metadata": {},
     "output_type": "execute_result"
    }
   ],
   "source": [
    "images_test[4], labels_test[4]"
   ]
  },
  {
   "cell_type": "code",
   "execution_count": 114,
   "metadata": {},
   "outputs": [
    {
     "data": {
      "text/plain": [
       "('/home/mila/v/venkatesh.ramesh/scratch/tree_data/dataset_myriam_split_hierarchical/train/images/zone2/1234969_1492303.png',\n",
       " '/home/mila/v/venkatesh.ramesh/scratch/tree_data/dataset_myriam_split_hierarchical/train/labels_merged/zone2/1234969_1492303.png')"
      ]
     },
     "execution_count": 114,
     "metadata": {},
     "output_type": "execute_result"
    }
   ],
   "source": [
    "images_train[4], labels_train[4]"
   ]
  },
  {
   "cell_type": "code",
   "execution_count": 116,
   "metadata": {},
   "outputs": [],
   "source": [
    "df = pd.DataFrame(data={\"tiles\": images_train, \"labels\": labels_train})\n",
    "df.to_csv('/home/mila/v/venkatesh.ramesh/scratch/tree_data/splits/hierarchical/train_768.csv', sep=',', index=False)"
   ]
  },
  {
   "cell_type": "code",
   "execution_count": 102,
   "metadata": {},
   "outputs": [],
   "source": [
    "df = pd.DataFrame(data={\"tiles\": images_list, \"labels\": labels_list})\n",
    "df.to_csv('/home/mila/v/venkatesh.ramesh/scratch/tree_data/splits/hierarchical/test_768.csv', sep=',', index=False)"
   ]
  },
  {
   "cell_type": "code",
   "execution_count": 66,
   "metadata": {},
   "outputs": [],
   "source": [
    "d1 = pd.read_csv('/home/mila/v/venkatesh.ramesh/scratch/tree_data/splits/pretiled_train_768.csv')"
   ]
  },
  {
   "cell_type": "code",
   "execution_count": 67,
   "metadata": {},
   "outputs": [],
   "source": [
    "images, labels = list(d1['tiles']), list(d1['labels'])"
   ]
  },
  {
   "cell_type": "code",
   "execution_count": 57,
   "metadata": {},
   "outputs": [
    {
     "data": {
      "text/plain": [
       "(None, None)"
      ]
     },
     "execution_count": 57,
     "metadata": {},
     "output_type": "execute_result"
    }
   ],
   "source": [
    "images.sort(), tiles.sort()"
   ]
  },
  {
   "cell_type": "code",
   "execution_count": 68,
   "metadata": {},
   "outputs": [
    {
     "data": {
      "text/plain": [
       "('/home/mila/v/venkatesh.ramesh/scratch/tree_data/dataset_myriam_split/train/images/zone1/1234976_1492363.png',\n",
       " '/home/mila/v/venkatesh.ramesh/scratch/tree_data/dataset_myriam_split/train/labels_removed_classes_1/zone1/1234976_1492363.png')"
      ]
     },
     "execution_count": 68,
     "metadata": {},
     "output_type": "execute_result"
    }
   ],
   "source": [
    "# images[120], labels[120]\n",
    "d1.iloc[120]['tiles'], d1.iloc[120]['labels']"
   ]
  },
  {
   "cell_type": "code",
   "execution_count": 15,
   "metadata": {},
   "outputs": [
    {
     "data": {
      "text/plain": [
       "'/home/mila/v/venkatesh.ramesh/scratch/tree_data/dataset_myriam_split/train/images/zone1/1234970_1492336.png'"
      ]
     },
     "execution_count": 15,
     "metadata": {},
     "output_type": "execute_result"
    }
   ],
   "source": [
    "d1['tiles'][0]"
   ]
  },
  {
   "cell_type": "code",
   "execution_count": 16,
   "metadata": {},
   "outputs": [
    {
     "data": {
      "text/plain": [
       "'/home/mila/v/venkatesh.ramesh/scratch/tree_data/dataset_myriam_split/train/labels_removed_classes_1/zone1/1234958_1492384.png'"
      ]
     },
     "execution_count": 16,
     "metadata": {},
     "output_type": "execute_result"
    }
   ],
   "source": [
    "d1['labels'][0]"
   ]
  },
  {
   "cell_type": "markdown",
   "metadata": {},
   "source": [
    "### Create masks for hierarchical loss"
   ]
  },
  {
   "cell_type": "code",
   "execution_count": 9,
   "metadata": {},
   "outputs": [],
   "source": [
    "import csv\n",
    "import random\n",
    "import pandas as pd\n",
    "from PIL import Image\n",
    "import glob\n",
    "import numpy as np"
   ]
  },
  {
   "cell_type": "code",
   "execution_count": 3,
   "metadata": {},
   "outputs": [],
   "source": [
    "# image_path = '/home/mila/v/venkatesh.ramesh/scratch/tree_data/dataset_myriam_split/test/images'\n",
    "# images_list = glob.glob(image_path + '/**/*.png', recursive=True)\n",
    "\n",
    "# label_path = '/home/mila/v/venkatesh.ramesh/scratch/tree_data/dataset_myriam_split/test/labels_removed_classes_2/'\n",
    "# labels_list = glob.glob(label_path + '/**/*.png', recursive=True)"
   ]
  },
  {
   "cell_type": "code",
   "execution_count": 4,
   "metadata": {},
   "outputs": [],
   "source": [
    "# print(len(labels_list), len(images_list))"
   ]
  },
  {
   "cell_type": "markdown",
   "metadata": {},
   "source": [
    "### Merge spe, gen, fam"
   ]
  },
  {
   "cell_type": "code",
   "execution_count": 21,
   "metadata": {},
   "outputs": [],
   "source": [
    "species_path = '/home/mila/v/venkatesh.ramesh/scratch/tree_data/dataset_myriam_split_hierarchical/test/labels'\n",
    "genus_path = '/home/mila/v/venkatesh.ramesh/scratch/tree_data/dataset_myriam_split_hierarchical/test/labels_genus'\n",
    "family_path = '/home/mila/v/venkatesh.ramesh/scratch/tree_data/dataset_myriam_split_hierarchical/test/labels_family'"
   ]
  },
  {
   "cell_type": "code",
   "execution_count": 22,
   "metadata": {},
   "outputs": [],
   "source": [
    "species = glob.glob(species_path + '/**/*.png', recursive=True)\n",
    "genus = glob.glob(genus_path + '/**/*.png', recursive=True)\n",
    "family = glob.glob(family_path + '/**/*.png', recursive=True)"
   ]
  },
  {
   "cell_type": "code",
   "execution_count": 23,
   "metadata": {},
   "outputs": [],
   "source": [
    "species.sort()\n",
    "genus.sort()\n",
    "family.sort()"
   ]
  },
  {
   "cell_type": "code",
   "execution_count": 24,
   "metadata": {},
   "outputs": [
    {
     "name": "stdout",
     "output_type": "stream",
     "text": [
      "280 280 280\n"
     ]
    }
   ],
   "source": [
    "print(len(species), len(genus), len(family))"
   ]
  },
  {
   "cell_type": "code",
   "execution_count": 25,
   "metadata": {},
   "outputs": [],
   "source": [
    "for spe, gen, fam in zip(species, genus, family):\n",
    "    spe_img = np.array(Image.open(spe))\n",
    "    gen_img = np.array(Image.open(gen))\n",
    "    fam_img = np.array(Image.open(fam))\n",
    "    \n",
    "#     print(spe_img.shape, gen_img.shape, fam_img.shape)\n",
    "#     break\n",
    "    rgb = Image.fromarray(np.dstack((spe_img[:, :, 0], gen_img[:, :, 0], fam_img[:, :, 0])))\n",
    "    rgb.save(spe.replace('labels', 'labels_merged'))\n",
    "#     print(np.unique(rgb))"
   ]
  },
  {
   "cell_type": "code",
   "execution_count": 36,
   "metadata": {},
   "outputs": [],
   "source": [
    "rgb = np.array(Image.open('/home/mila/v/venkatesh.ramesh/scratch/tree_data/dataset_myriam_split_hierarchical/test/labels_merged/zone1/1234940_1492336.png'))"
   ]
  },
  {
   "cell_type": "code",
   "execution_count": 37,
   "metadata": {},
   "outputs": [
    {
     "name": "stdout",
     "output_type": "stream",
     "text": [
      "[ 0  1  2  3  4  5  6  7  8  9 10 11 13 14] [ 0  1  2  3  4  5  6  7  9 10] [0 1 2 3 4]\n"
     ]
    }
   ],
   "source": [
    "print(np.unique(rgb[:, :, 0]), np.unique(rgb[:, :, 1]), np.unique(rgb[:, :, 2]))"
   ]
  },
  {
   "cell_type": "code",
   "execution_count": 38,
   "metadata": {},
   "outputs": [],
   "source": [
    "rgb = Image.fromarray(rgb * 15)"
   ]
  },
  {
   "cell_type": "code",
   "execution_count": 40,
   "metadata": {},
   "outputs": [],
   "source": [
    "# rgb"
   ]
  },
  {
   "cell_type": "markdown",
   "metadata": {},
   "source": [
    "### Change labels path in CSVs"
   ]
  },
  {
   "cell_type": "code",
   "execution_count": 36,
   "metadata": {},
   "outputs": [],
   "source": [
    "train_csv = pd.read_csv('/home/mila/v/venkatesh.ramesh/scratch/tree_data/splits/cross_validation/split3/train_cv3_768.csv')"
   ]
  },
  {
   "cell_type": "code",
   "execution_count": 37,
   "metadata": {},
   "outputs": [],
   "source": [
    "mod_labels = []\n",
    "for item in train_csv['labels']:\n",
    "    item = item.replace('dataset_myriam_split', 'dataset_myriam_split_hierarchical')\n",
    "    mod_labels.append(item.replace('labels_removed_classes_2', 'labels_merged')) "
   ]
  },
  {
   "cell_type": "code",
   "execution_count": 39,
   "metadata": {},
   "outputs": [
    {
     "data": {
      "text/plain": [
       "['/home/mila/v/venkatesh.ramesh/scratch/tree_data/dataset_myriam_split_hierarchical/test/labels_merged/zone1/1234931_1492333.png',\n",
       " '/home/mila/v/venkatesh.ramesh/scratch/tree_data/dataset_myriam_split_hierarchical/test/labels_merged/zone1/1234931_1492336.png',\n",
       " '/home/mila/v/venkatesh.ramesh/scratch/tree_data/dataset_myriam_split_hierarchical/test/labels_merged/zone1/1234931_1492339.png',\n",
       " '/home/mila/v/venkatesh.ramesh/scratch/tree_data/dataset_myriam_split_hierarchical/test/labels_merged/zone1/1234931_1492342.png',\n",
       " '/home/mila/v/venkatesh.ramesh/scratch/tree_data/dataset_myriam_split_hierarchical/test/labels_merged/zone1/1234934_1492333.png']"
      ]
     },
     "execution_count": 39,
     "metadata": {},
     "output_type": "execute_result"
    }
   ],
   "source": [
    "mod_labels[:5]"
   ]
  },
  {
   "cell_type": "code",
   "execution_count": 40,
   "metadata": {},
   "outputs": [],
   "source": [
    "tiles = []\n",
    "for til in train_csv['tiles']:\n",
    "    tiles.append(til)"
   ]
  },
  {
   "cell_type": "code",
   "execution_count": 41,
   "metadata": {},
   "outputs": [
    {
     "name": "stdout",
     "output_type": "stream",
     "text": [
      "/home/mila/v/venkatesh.ramesh/scratch/tree_data/dataset_myriam_split/test/images/zone3/1234885_1492336.png /home/mila/v/venkatesh.ramesh/scratch/tree_data/dataset_myriam_split_hierarchical/test/labels_merged/zone3/1234885_1492336.png\n"
     ]
    }
   ],
   "source": [
    "print(tiles[100], mod_labels[100])"
   ]
  },
  {
   "cell_type": "code",
   "execution_count": 42,
   "metadata": {},
   "outputs": [
    {
     "name": "stdout",
     "output_type": "stream",
     "text": [
      "280 280\n"
     ]
    }
   ],
   "source": [
    "print(len(tiles), len(mod_labels))"
   ]
  },
  {
   "cell_type": "code",
   "execution_count": 43,
   "metadata": {},
   "outputs": [],
   "source": [
    "df = pd.DataFrame(data={\"tiles\": tiles, \"labels\": mod_labels})\n",
    "df.to_csv('/home/mila/v/venkatesh.ramesh/scratch/tree_data/splits/hierarchical/test_768.csv', sep=',', index=False)"
   ]
  },
  {
   "cell_type": "code",
   "execution_count": null,
   "metadata": {},
   "outputs": [],
   "source": []
  }
 ],
 "metadata": {
  "kernelspec": {
   "display_name": "eo",
   "language": "python",
   "name": "eo"
  },
  "language_info": {
   "codemirror_mode": {
    "name": "ipython",
    "version": 3
   },
   "file_extension": ".py",
   "mimetype": "text/x-python",
   "name": "python",
   "nbconvert_exporter": "python",
   "pygments_lexer": "ipython3",
   "version": "3.10.8"
  }
 },
 "nbformat": 4,
 "nbformat_minor": 4
}
